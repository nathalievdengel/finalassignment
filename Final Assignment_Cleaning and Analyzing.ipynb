{
 "cells": [
  {
   "cell_type": "markdown",
   "metadata": {},
   "source": [
    "# Predicting the PRICE of items listed in Vinted #"
   ]
  },
  {
   "cell_type": "markdown",
   "metadata": {},
   "source": [
    "## Description ##"
   ]
  },
  {
   "cell_type": "markdown",
   "metadata": {},
   "source": [
    "Vinted is a Lithuanian online marketplace and community that allows users to sell, buy, and swap secondhand clothing, accessories and even some homeware. It has a built-in price indicator however it doesn’t show what it’s based on and doesn’t seem correct. Therefore, I decided to create my own. "
   ]
  },
  {
   "cell_type": "markdown",
   "metadata": {},
   "source": [
    "## Importing libraries ##\n"
   ]
  },
  {
   "cell_type": "code",
   "execution_count": 56,
   "metadata": {},
   "outputs": [],
   "source": [
    "import seaborn as sns\n",
    "import sklearn as sk \n",
    "import pandas as pd\n",
    "import matplotlib.pyplot as plt \n",
    "import math\n",
    "import numpy as np\n",
    "\n",
    "from scipy.stats.stats import pearsonr"
   ]
  },
  {
   "cell_type": "markdown",
   "metadata": {},
   "source": [
    "## Pre processing ##"
   ]
  },
  {
   "cell_type": "markdown",
   "metadata": {},
   "source": [
    "First, I am going to load my data into the notebook. I have used the following API: https://github.com/Gertje823/Vinted-Scraper, and added a few more variables, such as likes and views, followers and reviews of the user. I have tried to scrape the data on my own, however it was too big of a project to complete it in the timeframe as I don't have much experience with selenium and the code is bugged at the moment, which I found out when I researched the project. Also, Vinted is a pain when working with chrome as the website doesn't work correctly there. "
   ]
  },
  {
   "cell_type": "code",
   "execution_count": 2,
   "metadata": {
    "scrolled": true
   },
   "outputs": [
    {
     "data": {
      "text/html": [
       "<div>\n",
       "<style scoped>\n",
       "    .dataframe tbody tr th:only-of-type {\n",
       "        vertical-align: middle;\n",
       "    }\n",
       "\n",
       "    .dataframe tbody tr th {\n",
       "        vertical-align: top;\n",
       "    }\n",
       "\n",
       "    .dataframe thead th {\n",
       "        text-align: right;\n",
       "    }\n",
       "</style>\n",
       "<table border=\"1\" class=\"dataframe\">\n",
       "  <thead>\n",
       "    <tr style=\"text-align: right;\">\n",
       "      <th></th>\n",
       "      <th>ID</th>\n",
       "      <th>User_id</th>\n",
       "      <th>Sold</th>\n",
       "      <th>Gender</th>\n",
       "      <th>Category</th>\n",
       "      <th>subcategory</th>\n",
       "      <th>size</th>\n",
       "      <th>State</th>\n",
       "      <th>Brand</th>\n",
       "      <th>Colors</th>\n",
       "      <th>Price</th>\n",
       "      <th>Image</th>\n",
       "      <th>Images</th>\n",
       "      <th>Description</th>\n",
       "      <th>Title</th>\n",
       "      <th>Views</th>\n",
       "      <th>Interested</th>\n",
       "      <th>Followers</th>\n",
       "      <th>Reviews</th>\n",
       "    </tr>\n",
       "  </thead>\n",
       "  <tbody>\n",
       "    <tr>\n",
       "      <th>0</th>\n",
       "      <td>841147011</td>\n",
       "      <td>36260360</td>\n",
       "      <td>NaN</td>\n",
       "      <td>F</td>\n",
       "      <td>1056</td>\n",
       "      <td>NaN</td>\n",
       "      <td>M / 38 / 10</td>\n",
       "      <td>Very good</td>\n",
       "      <td>Vintage</td>\n",
       "      <td>Beige</td>\n",
       "      <td>29.0</td>\n",
       "      <td>NaN</td>\n",
       "      <td>downloads/36260360/02_001dc_MwJ13zB5p3XFmLf1R1...</td>\n",
       "      <td>I feel like a super hot housewife from the 70s...</td>\n",
       "      <td>70s vintage dress</td>\n",
       "      <td>114</td>\n",
       "      <td>20</td>\n",
       "      <td>14</td>\n",
       "      <td>2</td>\n",
       "    </tr>\n",
       "    <tr>\n",
       "      <th>1</th>\n",
       "      <td>841147011</td>\n",
       "      <td>36260360</td>\n",
       "      <td>NaN</td>\n",
       "      <td>F</td>\n",
       "      <td>1056</td>\n",
       "      <td>NaN</td>\n",
       "      <td>M / 38 / 10</td>\n",
       "      <td>Very good</td>\n",
       "      <td>Vintage</td>\n",
       "      <td>Beige</td>\n",
       "      <td>29.0</td>\n",
       "      <td>NaN</td>\n",
       "      <td>downloads/36260360/02_00426_nmubCYL57j3nuE9GCo...</td>\n",
       "      <td>I feel like a super hot housewife from the 70s...</td>\n",
       "      <td>70s vintage dress</td>\n",
       "      <td>114</td>\n",
       "      <td>20</td>\n",
       "      <td>14</td>\n",
       "      <td>2</td>\n",
       "    </tr>\n",
       "    <tr>\n",
       "      <th>2</th>\n",
       "      <td>841147011</td>\n",
       "      <td>36260360</td>\n",
       "      <td>NaN</td>\n",
       "      <td>F</td>\n",
       "      <td>1056</td>\n",
       "      <td>NaN</td>\n",
       "      <td>M / 38 / 10</td>\n",
       "      <td>Very good</td>\n",
       "      <td>Vintage</td>\n",
       "      <td>Beige</td>\n",
       "      <td>29.0</td>\n",
       "      <td>NaN</td>\n",
       "      <td>downloads/36260360/02_023d6_gMZpDS9ghHsFMezTiA...</td>\n",
       "      <td>I feel like a super hot housewife from the 70s...</td>\n",
       "      <td>70s vintage dress</td>\n",
       "      <td>114</td>\n",
       "      <td>20</td>\n",
       "      <td>14</td>\n",
       "      <td>2</td>\n",
       "    </tr>\n",
       "    <tr>\n",
       "      <th>3</th>\n",
       "      <td>841212517</td>\n",
       "      <td>36260360</td>\n",
       "      <td>NaN</td>\n",
       "      <td>F</td>\n",
       "      <td>18</td>\n",
       "      <td>NaN</td>\n",
       "      <td>S / 36 / 8</td>\n",
       "      <td>Very good</td>\n",
       "      <td>Vintage</td>\n",
       "      <td>Black</td>\n",
       "      <td>30.0</td>\n",
       "      <td>NaN</td>\n",
       "      <td>downloads/36260360/02_01698_oPJfcfg6w1sGN83REe...</td>\n",
       "      <td>Crop top and matching flared pants. Only worn ...</td>\n",
       "      <td>Twin set!</td>\n",
       "      <td>231</td>\n",
       "      <td>26</td>\n",
       "      <td>14</td>\n",
       "      <td>2</td>\n",
       "    </tr>\n",
       "    <tr>\n",
       "      <th>4</th>\n",
       "      <td>841212517</td>\n",
       "      <td>36260360</td>\n",
       "      <td>NaN</td>\n",
       "      <td>F</td>\n",
       "      <td>18</td>\n",
       "      <td>NaN</td>\n",
       "      <td>S / 36 / 8</td>\n",
       "      <td>Very good</td>\n",
       "      <td>Vintage</td>\n",
       "      <td>Black</td>\n",
       "      <td>30.0</td>\n",
       "      <td>NaN</td>\n",
       "      <td>downloads/36260360/02_025ce_51be5qzNa2vozgepRc...</td>\n",
       "      <td>Crop top and matching flared pants. Only worn ...</td>\n",
       "      <td>Twin set!</td>\n",
       "      <td>231</td>\n",
       "      <td>26</td>\n",
       "      <td>14</td>\n",
       "      <td>2</td>\n",
       "    </tr>\n",
       "  </tbody>\n",
       "</table>\n",
       "</div>"
      ],
      "text/plain": [
       "          ID   User_id  Sold Gender  Category  subcategory         size  \\\n",
       "0  841147011  36260360   NaN      F      1056          NaN  M / 38 / 10   \n",
       "1  841147011  36260360   NaN      F      1056          NaN  M / 38 / 10   \n",
       "2  841147011  36260360   NaN      F      1056          NaN  M / 38 / 10   \n",
       "3  841212517  36260360   NaN      F        18          NaN   S / 36 / 8   \n",
       "4  841212517  36260360   NaN      F        18          NaN   S / 36 / 8   \n",
       "\n",
       "       State    Brand Colors  Price  Image  \\\n",
       "0  Very good  Vintage  Beige   29.0    NaN   \n",
       "1  Very good  Vintage  Beige   29.0    NaN   \n",
       "2  Very good  Vintage  Beige   29.0    NaN   \n",
       "3  Very good  Vintage  Black   30.0    NaN   \n",
       "4  Very good  Vintage  Black   30.0    NaN   \n",
       "\n",
       "                                              Images  \\\n",
       "0  downloads/36260360/02_001dc_MwJ13zB5p3XFmLf1R1...   \n",
       "1  downloads/36260360/02_00426_nmubCYL57j3nuE9GCo...   \n",
       "2  downloads/36260360/02_023d6_gMZpDS9ghHsFMezTiA...   \n",
       "3  downloads/36260360/02_01698_oPJfcfg6w1sGN83REe...   \n",
       "4  downloads/36260360/02_025ce_51be5qzNa2vozgepRc...   \n",
       "\n",
       "                                         Description              Title  \\\n",
       "0  I feel like a super hot housewife from the 70s...  70s vintage dress   \n",
       "1  I feel like a super hot housewife from the 70s...  70s vintage dress   \n",
       "2  I feel like a super hot housewife from the 70s...  70s vintage dress   \n",
       "3  Crop top and matching flared pants. Only worn ...         Twin set!    \n",
       "4  Crop top and matching flared pants. Only worn ...         Twin set!    \n",
       "\n",
       "   Views  Interested  Followers  Reviews  \n",
       "0    114          20         14        2  \n",
       "1    114          20         14        2  \n",
       "2    114          20         14        2  \n",
       "3    231          26         14        2  \n",
       "4    231          26         14        2  "
      ]
     },
     "execution_count": 2,
     "metadata": {},
     "output_type": "execute_result"
    }
   ],
   "source": [
    "df = pd.read_csv(\"vinted.csv\", encoding=\"mac_roman\")\n",
    "df.head()"
   ]
  },
  {
   "cell_type": "markdown",
   "metadata": {},
   "source": [
    "I used the encoding parameter to load the dataset because it wouldn't load correctly and would give an error. "
   ]
  },
  {
   "cell_type": "markdown",
   "metadata": {},
   "source": [
    "I want to rename the column \"size\" as I want it to start with a capital letter like the others. \"Subcategory\" is also with a lower letter, however I am not going to use the column so I am not going to bother changing it."
   ]
  },
  {
   "cell_type": "code",
   "execution_count": 3,
   "metadata": {},
   "outputs": [
    {
     "data": {
      "text/html": [
       "<div>\n",
       "<style scoped>\n",
       "    .dataframe tbody tr th:only-of-type {\n",
       "        vertical-align: middle;\n",
       "    }\n",
       "\n",
       "    .dataframe tbody tr th {\n",
       "        vertical-align: top;\n",
       "    }\n",
       "\n",
       "    .dataframe thead th {\n",
       "        text-align: right;\n",
       "    }\n",
       "</style>\n",
       "<table border=\"1\" class=\"dataframe\">\n",
       "  <thead>\n",
       "    <tr style=\"text-align: right;\">\n",
       "      <th></th>\n",
       "      <th>ID</th>\n",
       "      <th>User_id</th>\n",
       "      <th>Sold</th>\n",
       "      <th>Gender</th>\n",
       "      <th>Category</th>\n",
       "      <th>subcategory</th>\n",
       "      <th>Size</th>\n",
       "      <th>State</th>\n",
       "      <th>Brand</th>\n",
       "      <th>Colors</th>\n",
       "      <th>Price</th>\n",
       "      <th>Image</th>\n",
       "      <th>Images</th>\n",
       "      <th>Description</th>\n",
       "      <th>Title</th>\n",
       "      <th>Views</th>\n",
       "      <th>Interested</th>\n",
       "      <th>Followers</th>\n",
       "      <th>Reviews</th>\n",
       "    </tr>\n",
       "  </thead>\n",
       "  <tbody>\n",
       "    <tr>\n",
       "      <th>0</th>\n",
       "      <td>841147011</td>\n",
       "      <td>36260360</td>\n",
       "      <td>NaN</td>\n",
       "      <td>F</td>\n",
       "      <td>1056</td>\n",
       "      <td>NaN</td>\n",
       "      <td>M / 38 / 10</td>\n",
       "      <td>Very good</td>\n",
       "      <td>Vintage</td>\n",
       "      <td>Beige</td>\n",
       "      <td>29.0</td>\n",
       "      <td>NaN</td>\n",
       "      <td>downloads/36260360/02_001dc_MwJ13zB5p3XFmLf1R1...</td>\n",
       "      <td>I feel like a super hot housewife from the 70s...</td>\n",
       "      <td>70s vintage dress</td>\n",
       "      <td>114</td>\n",
       "      <td>20</td>\n",
       "      <td>14</td>\n",
       "      <td>2</td>\n",
       "    </tr>\n",
       "    <tr>\n",
       "      <th>1</th>\n",
       "      <td>841147011</td>\n",
       "      <td>36260360</td>\n",
       "      <td>NaN</td>\n",
       "      <td>F</td>\n",
       "      <td>1056</td>\n",
       "      <td>NaN</td>\n",
       "      <td>M / 38 / 10</td>\n",
       "      <td>Very good</td>\n",
       "      <td>Vintage</td>\n",
       "      <td>Beige</td>\n",
       "      <td>29.0</td>\n",
       "      <td>NaN</td>\n",
       "      <td>downloads/36260360/02_00426_nmubCYL57j3nuE9GCo...</td>\n",
       "      <td>I feel like a super hot housewife from the 70s...</td>\n",
       "      <td>70s vintage dress</td>\n",
       "      <td>114</td>\n",
       "      <td>20</td>\n",
       "      <td>14</td>\n",
       "      <td>2</td>\n",
       "    </tr>\n",
       "    <tr>\n",
       "      <th>2</th>\n",
       "      <td>841147011</td>\n",
       "      <td>36260360</td>\n",
       "      <td>NaN</td>\n",
       "      <td>F</td>\n",
       "      <td>1056</td>\n",
       "      <td>NaN</td>\n",
       "      <td>M / 38 / 10</td>\n",
       "      <td>Very good</td>\n",
       "      <td>Vintage</td>\n",
       "      <td>Beige</td>\n",
       "      <td>29.0</td>\n",
       "      <td>NaN</td>\n",
       "      <td>downloads/36260360/02_023d6_gMZpDS9ghHsFMezTiA...</td>\n",
       "      <td>I feel like a super hot housewife from the 70s...</td>\n",
       "      <td>70s vintage dress</td>\n",
       "      <td>114</td>\n",
       "      <td>20</td>\n",
       "      <td>14</td>\n",
       "      <td>2</td>\n",
       "    </tr>\n",
       "    <tr>\n",
       "      <th>3</th>\n",
       "      <td>841212517</td>\n",
       "      <td>36260360</td>\n",
       "      <td>NaN</td>\n",
       "      <td>F</td>\n",
       "      <td>18</td>\n",
       "      <td>NaN</td>\n",
       "      <td>S / 36 / 8</td>\n",
       "      <td>Very good</td>\n",
       "      <td>Vintage</td>\n",
       "      <td>Black</td>\n",
       "      <td>30.0</td>\n",
       "      <td>NaN</td>\n",
       "      <td>downloads/36260360/02_01698_oPJfcfg6w1sGN83REe...</td>\n",
       "      <td>Crop top and matching flared pants. Only worn ...</td>\n",
       "      <td>Twin set!</td>\n",
       "      <td>231</td>\n",
       "      <td>26</td>\n",
       "      <td>14</td>\n",
       "      <td>2</td>\n",
       "    </tr>\n",
       "    <tr>\n",
       "      <th>4</th>\n",
       "      <td>841212517</td>\n",
       "      <td>36260360</td>\n",
       "      <td>NaN</td>\n",
       "      <td>F</td>\n",
       "      <td>18</td>\n",
       "      <td>NaN</td>\n",
       "      <td>S / 36 / 8</td>\n",
       "      <td>Very good</td>\n",
       "      <td>Vintage</td>\n",
       "      <td>Black</td>\n",
       "      <td>30.0</td>\n",
       "      <td>NaN</td>\n",
       "      <td>downloads/36260360/02_025ce_51be5qzNa2vozgepRc...</td>\n",
       "      <td>Crop top and matching flared pants. Only worn ...</td>\n",
       "      <td>Twin set!</td>\n",
       "      <td>231</td>\n",
       "      <td>26</td>\n",
       "      <td>14</td>\n",
       "      <td>2</td>\n",
       "    </tr>\n",
       "  </tbody>\n",
       "</table>\n",
       "</div>"
      ],
      "text/plain": [
       "          ID   User_id  Sold Gender  Category  subcategory         Size  \\\n",
       "0  841147011  36260360   NaN      F      1056          NaN  M / 38 / 10   \n",
       "1  841147011  36260360   NaN      F      1056          NaN  M / 38 / 10   \n",
       "2  841147011  36260360   NaN      F      1056          NaN  M / 38 / 10   \n",
       "3  841212517  36260360   NaN      F        18          NaN   S / 36 / 8   \n",
       "4  841212517  36260360   NaN      F        18          NaN   S / 36 / 8   \n",
       "\n",
       "       State    Brand Colors  Price  Image  \\\n",
       "0  Very good  Vintage  Beige   29.0    NaN   \n",
       "1  Very good  Vintage  Beige   29.0    NaN   \n",
       "2  Very good  Vintage  Beige   29.0    NaN   \n",
       "3  Very good  Vintage  Black   30.0    NaN   \n",
       "4  Very good  Vintage  Black   30.0    NaN   \n",
       "\n",
       "                                              Images  \\\n",
       "0  downloads/36260360/02_001dc_MwJ13zB5p3XFmLf1R1...   \n",
       "1  downloads/36260360/02_00426_nmubCYL57j3nuE9GCo...   \n",
       "2  downloads/36260360/02_023d6_gMZpDS9ghHsFMezTiA...   \n",
       "3  downloads/36260360/02_01698_oPJfcfg6w1sGN83REe...   \n",
       "4  downloads/36260360/02_025ce_51be5qzNa2vozgepRc...   \n",
       "\n",
       "                                         Description              Title  \\\n",
       "0  I feel like a super hot housewife from the 70s...  70s vintage dress   \n",
       "1  I feel like a super hot housewife from the 70s...  70s vintage dress   \n",
       "2  I feel like a super hot housewife from the 70s...  70s vintage dress   \n",
       "3  Crop top and matching flared pants. Only worn ...         Twin set!    \n",
       "4  Crop top and matching flared pants. Only worn ...         Twin set!    \n",
       "\n",
       "   Views  Interested  Followers  Reviews  \n",
       "0    114          20         14        2  \n",
       "1    114          20         14        2  \n",
       "2    114          20         14        2  \n",
       "3    231          26         14        2  \n",
       "4    231          26         14        2  "
      ]
     },
     "execution_count": 3,
     "metadata": {},
     "output_type": "execute_result"
    }
   ],
   "source": [
    "df.rename(columns={\"size\":\"Size\"}, inplace=True)\n",
    "df.head()"
   ]
  },
  {
   "cell_type": "markdown",
   "metadata": {},
   "source": [
    "Then I am going to subset my dataset into categories I actually want to use. If you look correctly you can see that there might be duplicates. However, that's because of the \"Images\" column where the images of the items are stored. Each row for each item indicates a unique picture. I have to transform this column into something different to actually make it useful later, but first subsetting the data."
   ]
  },
  {
   "cell_type": "code",
   "execution_count": 4,
   "metadata": {},
   "outputs": [
    {
     "data": {
      "text/html": [
       "<div>\n",
       "<style scoped>\n",
       "    .dataframe tbody tr th:only-of-type {\n",
       "        vertical-align: middle;\n",
       "    }\n",
       "\n",
       "    .dataframe tbody tr th {\n",
       "        vertical-align: top;\n",
       "    }\n",
       "\n",
       "    .dataframe thead th {\n",
       "        text-align: right;\n",
       "    }\n",
       "</style>\n",
       "<table border=\"1\" class=\"dataframe\">\n",
       "  <thead>\n",
       "    <tr style=\"text-align: right;\">\n",
       "      <th></th>\n",
       "      <th>ID</th>\n",
       "      <th>Category</th>\n",
       "      <th>Price</th>\n",
       "      <th>Size</th>\n",
       "      <th>State</th>\n",
       "      <th>Brand</th>\n",
       "      <th>Colors</th>\n",
       "      <th>Images</th>\n",
       "      <th>Views</th>\n",
       "      <th>Interested</th>\n",
       "    </tr>\n",
       "  </thead>\n",
       "  <tbody>\n",
       "    <tr>\n",
       "      <th>0</th>\n",
       "      <td>841147011</td>\n",
       "      <td>1056</td>\n",
       "      <td>29.0</td>\n",
       "      <td>M / 38 / 10</td>\n",
       "      <td>Very good</td>\n",
       "      <td>Vintage</td>\n",
       "      <td>Beige</td>\n",
       "      <td>downloads/36260360/02_001dc_MwJ13zB5p3XFmLf1R1...</td>\n",
       "      <td>114</td>\n",
       "      <td>20</td>\n",
       "    </tr>\n",
       "    <tr>\n",
       "      <th>1</th>\n",
       "      <td>841147011</td>\n",
       "      <td>1056</td>\n",
       "      <td>29.0</td>\n",
       "      <td>M / 38 / 10</td>\n",
       "      <td>Very good</td>\n",
       "      <td>Vintage</td>\n",
       "      <td>Beige</td>\n",
       "      <td>downloads/36260360/02_00426_nmubCYL57j3nuE9GCo...</td>\n",
       "      <td>114</td>\n",
       "      <td>20</td>\n",
       "    </tr>\n",
       "    <tr>\n",
       "      <th>2</th>\n",
       "      <td>841147011</td>\n",
       "      <td>1056</td>\n",
       "      <td>29.0</td>\n",
       "      <td>M / 38 / 10</td>\n",
       "      <td>Very good</td>\n",
       "      <td>Vintage</td>\n",
       "      <td>Beige</td>\n",
       "      <td>downloads/36260360/02_023d6_gMZpDS9ghHsFMezTiA...</td>\n",
       "      <td>114</td>\n",
       "      <td>20</td>\n",
       "    </tr>\n",
       "    <tr>\n",
       "      <th>3</th>\n",
       "      <td>841212517</td>\n",
       "      <td>18</td>\n",
       "      <td>30.0</td>\n",
       "      <td>S / 36 / 8</td>\n",
       "      <td>Very good</td>\n",
       "      <td>Vintage</td>\n",
       "      <td>Black</td>\n",
       "      <td>downloads/36260360/02_01698_oPJfcfg6w1sGN83REe...</td>\n",
       "      <td>231</td>\n",
       "      <td>26</td>\n",
       "    </tr>\n",
       "    <tr>\n",
       "      <th>4</th>\n",
       "      <td>841212517</td>\n",
       "      <td>18</td>\n",
       "      <td>30.0</td>\n",
       "      <td>S / 36 / 8</td>\n",
       "      <td>Very good</td>\n",
       "      <td>Vintage</td>\n",
       "      <td>Black</td>\n",
       "      <td>downloads/36260360/02_025ce_51be5qzNa2vozgepRc...</td>\n",
       "      <td>231</td>\n",
       "      <td>26</td>\n",
       "    </tr>\n",
       "  </tbody>\n",
       "</table>\n",
       "</div>"
      ],
      "text/plain": [
       "          ID  Category  Price         Size      State    Brand Colors  \\\n",
       "0  841147011      1056   29.0  M / 38 / 10  Very good  Vintage  Beige   \n",
       "1  841147011      1056   29.0  M / 38 / 10  Very good  Vintage  Beige   \n",
       "2  841147011      1056   29.0  M / 38 / 10  Very good  Vintage  Beige   \n",
       "3  841212517        18   30.0   S / 36 / 8  Very good  Vintage  Black   \n",
       "4  841212517        18   30.0   S / 36 / 8  Very good  Vintage  Black   \n",
       "\n",
       "                                              Images  Views  Interested  \n",
       "0  downloads/36260360/02_001dc_MwJ13zB5p3XFmLf1R1...    114          20  \n",
       "1  downloads/36260360/02_00426_nmubCYL57j3nuE9GCo...    114          20  \n",
       "2  downloads/36260360/02_023d6_gMZpDS9ghHsFMezTiA...    114          20  \n",
       "3  downloads/36260360/02_01698_oPJfcfg6w1sGN83REe...    231          26  \n",
       "4  downloads/36260360/02_025ce_51be5qzNa2vozgepRc...    231          26  "
      ]
     },
     "execution_count": 4,
     "metadata": {},
     "output_type": "execute_result"
    }
   ],
   "source": [
    "df_sub = df[[\"ID\", \"Category\",\"Price\", \"Size\", \"State\", \"Brand\", \"Colors\", \"Images\", \"Views\", \"Interested\"]]\n",
    "df_sub.head()"
   ]
  },
  {
   "cell_type": "markdown",
   "metadata": {},
   "source": [
    "When I first looked at my dataset I thought there were a lot of duplicates. However, when I looked at it closer, it seemed to have made a row for each different image. There could have been a possibility to work with pictures however we didn't really discuss it too much in class and I am not that confident in my skills yet. But I did want to use that data and not just throw it away as it could be quite useful. Instead I am going to count the amount of pictures that has been used to display an item and put it into a new column and named \"Amount_Of_Pictures\". "
   ]
  },
  {
   "cell_type": "code",
   "execution_count": 5,
   "metadata": {},
   "outputs": [
    {
     "name": "stderr",
     "output_type": "stream",
     "text": [
      "C:\\Users\\NMari\\anaconda3\\lib\\site-packages\\ipykernel_launcher.py:1: SettingWithCopyWarning: \n",
      "A value is trying to be set on a copy of a slice from a DataFrame.\n",
      "Try using .loc[row_indexer,col_indexer] = value instead\n",
      "\n",
      "See the caveats in the documentation: https://pandas.pydata.org/pandas-docs/stable/user_guide/indexing.html#returning-a-view-versus-a-copy\n",
      "  \"\"\"Entry point for launching an IPython kernel.\n"
     ]
    },
    {
     "data": {
      "text/html": [
       "<div>\n",
       "<style scoped>\n",
       "    .dataframe tbody tr th:only-of-type {\n",
       "        vertical-align: middle;\n",
       "    }\n",
       "\n",
       "    .dataframe tbody tr th {\n",
       "        vertical-align: top;\n",
       "    }\n",
       "\n",
       "    .dataframe thead th {\n",
       "        text-align: right;\n",
       "    }\n",
       "</style>\n",
       "<table border=\"1\" class=\"dataframe\">\n",
       "  <thead>\n",
       "    <tr style=\"text-align: right;\">\n",
       "      <th></th>\n",
       "      <th>ID</th>\n",
       "      <th>Category</th>\n",
       "      <th>Price</th>\n",
       "      <th>Size</th>\n",
       "      <th>State</th>\n",
       "      <th>Brand</th>\n",
       "      <th>Colors</th>\n",
       "      <th>Images</th>\n",
       "      <th>Views</th>\n",
       "      <th>Interested</th>\n",
       "      <th>Amount_Of_Pictures</th>\n",
       "    </tr>\n",
       "  </thead>\n",
       "  <tbody>\n",
       "    <tr>\n",
       "      <th>0</th>\n",
       "      <td>841147011</td>\n",
       "      <td>1056</td>\n",
       "      <td>29.0</td>\n",
       "      <td>M / 38 / 10</td>\n",
       "      <td>Very good</td>\n",
       "      <td>Vintage</td>\n",
       "      <td>Beige</td>\n",
       "      <td>downloads/36260360/02_001dc_MwJ13zB5p3XFmLf1R1...</td>\n",
       "      <td>114</td>\n",
       "      <td>20</td>\n",
       "      <td>3</td>\n",
       "    </tr>\n",
       "    <tr>\n",
       "      <th>1</th>\n",
       "      <td>841147011</td>\n",
       "      <td>1056</td>\n",
       "      <td>29.0</td>\n",
       "      <td>M / 38 / 10</td>\n",
       "      <td>Very good</td>\n",
       "      <td>Vintage</td>\n",
       "      <td>Beige</td>\n",
       "      <td>downloads/36260360/02_00426_nmubCYL57j3nuE9GCo...</td>\n",
       "      <td>114</td>\n",
       "      <td>20</td>\n",
       "      <td>3</td>\n",
       "    </tr>\n",
       "    <tr>\n",
       "      <th>2</th>\n",
       "      <td>841147011</td>\n",
       "      <td>1056</td>\n",
       "      <td>29.0</td>\n",
       "      <td>M / 38 / 10</td>\n",
       "      <td>Very good</td>\n",
       "      <td>Vintage</td>\n",
       "      <td>Beige</td>\n",
       "      <td>downloads/36260360/02_023d6_gMZpDS9ghHsFMezTiA...</td>\n",
       "      <td>114</td>\n",
       "      <td>20</td>\n",
       "      <td>3</td>\n",
       "    </tr>\n",
       "    <tr>\n",
       "      <th>3</th>\n",
       "      <td>841212517</td>\n",
       "      <td>18</td>\n",
       "      <td>30.0</td>\n",
       "      <td>S / 36 / 8</td>\n",
       "      <td>Very good</td>\n",
       "      <td>Vintage</td>\n",
       "      <td>Black</td>\n",
       "      <td>downloads/36260360/02_01698_oPJfcfg6w1sGN83REe...</td>\n",
       "      <td>231</td>\n",
       "      <td>26</td>\n",
       "      <td>4</td>\n",
       "    </tr>\n",
       "    <tr>\n",
       "      <th>4</th>\n",
       "      <td>841212517</td>\n",
       "      <td>18</td>\n",
       "      <td>30.0</td>\n",
       "      <td>S / 36 / 8</td>\n",
       "      <td>Very good</td>\n",
       "      <td>Vintage</td>\n",
       "      <td>Black</td>\n",
       "      <td>downloads/36260360/02_025ce_51be5qzNa2vozgepRc...</td>\n",
       "      <td>231</td>\n",
       "      <td>26</td>\n",
       "      <td>4</td>\n",
       "    </tr>\n",
       "  </tbody>\n",
       "</table>\n",
       "</div>"
      ],
      "text/plain": [
       "          ID  Category  Price         Size      State    Brand Colors  \\\n",
       "0  841147011      1056   29.0  M / 38 / 10  Very good  Vintage  Beige   \n",
       "1  841147011      1056   29.0  M / 38 / 10  Very good  Vintage  Beige   \n",
       "2  841147011      1056   29.0  M / 38 / 10  Very good  Vintage  Beige   \n",
       "3  841212517        18   30.0   S / 36 / 8  Very good  Vintage  Black   \n",
       "4  841212517        18   30.0   S / 36 / 8  Very good  Vintage  Black   \n",
       "\n",
       "                                              Images  Views  Interested  \\\n",
       "0  downloads/36260360/02_001dc_MwJ13zB5p3XFmLf1R1...    114          20   \n",
       "1  downloads/36260360/02_00426_nmubCYL57j3nuE9GCo...    114          20   \n",
       "2  downloads/36260360/02_023d6_gMZpDS9ghHsFMezTiA...    114          20   \n",
       "3  downloads/36260360/02_01698_oPJfcfg6w1sGN83REe...    231          26   \n",
       "4  downloads/36260360/02_025ce_51be5qzNa2vozgepRc...    231          26   \n",
       "\n",
       "   Amount_Of_Pictures  \n",
       "0                   3  \n",
       "1                   3  \n",
       "2                   3  \n",
       "3                   4  \n",
       "4                   4  "
      ]
     },
     "execution_count": 5,
     "metadata": {},
     "output_type": "execute_result"
    }
   ],
   "source": [
    "df_sub[\"Amount_Of_Pictures\"] = df_sub.groupby(\"ID\")[\"ID\"].transform(\"count\")\n",
    "df_sub.head()"
   ]
  },
  {
   "cell_type": "markdown",
   "metadata": {},
   "source": [
    "Now there are actual duplicates which I need to remove. "
   ]
  },
  {
   "cell_type": "code",
   "execution_count": 6,
   "metadata": {},
   "outputs": [
    {
     "data": {
      "text/html": [
       "<div>\n",
       "<style scoped>\n",
       "    .dataframe tbody tr th:only-of-type {\n",
       "        vertical-align: middle;\n",
       "    }\n",
       "\n",
       "    .dataframe tbody tr th {\n",
       "        vertical-align: top;\n",
       "    }\n",
       "\n",
       "    .dataframe thead th {\n",
       "        text-align: right;\n",
       "    }\n",
       "</style>\n",
       "<table border=\"1\" class=\"dataframe\">\n",
       "  <thead>\n",
       "    <tr style=\"text-align: right;\">\n",
       "      <th></th>\n",
       "      <th>ID</th>\n",
       "      <th>Category</th>\n",
       "      <th>Price</th>\n",
       "      <th>Size</th>\n",
       "      <th>State</th>\n",
       "      <th>Brand</th>\n",
       "      <th>Colors</th>\n",
       "      <th>Images</th>\n",
       "      <th>Views</th>\n",
       "      <th>Interested</th>\n",
       "      <th>Amount_Of_Pictures</th>\n",
       "    </tr>\n",
       "  </thead>\n",
       "  <tbody>\n",
       "    <tr>\n",
       "      <th>0</th>\n",
       "      <td>841147011</td>\n",
       "      <td>1056</td>\n",
       "      <td>29.0</td>\n",
       "      <td>M / 38 / 10</td>\n",
       "      <td>Very good</td>\n",
       "      <td>Vintage</td>\n",
       "      <td>Beige</td>\n",
       "      <td>downloads/36260360/02_001dc_MwJ13zB5p3XFmLf1R1...</td>\n",
       "      <td>114</td>\n",
       "      <td>20</td>\n",
       "      <td>3</td>\n",
       "    </tr>\n",
       "    <tr>\n",
       "      <th>3</th>\n",
       "      <td>841212517</td>\n",
       "      <td>18</td>\n",
       "      <td>30.0</td>\n",
       "      <td>S / 36 / 8</td>\n",
       "      <td>Very good</td>\n",
       "      <td>Vintage</td>\n",
       "      <td>Black</td>\n",
       "      <td>downloads/36260360/02_01698_oPJfcfg6w1sGN83REe...</td>\n",
       "      <td>231</td>\n",
       "      <td>26</td>\n",
       "      <td>4</td>\n",
       "    </tr>\n",
       "    <tr>\n",
       "      <th>7</th>\n",
       "      <td>836855778</td>\n",
       "      <td>529</td>\n",
       "      <td>15.0</td>\n",
       "      <td>M / 38 / 10</td>\n",
       "      <td>Very good</td>\n",
       "      <td>Vintage</td>\n",
       "      <td>White</td>\n",
       "      <td>downloads/36260360/02_010a0_wNYXCEeZL6KQQVbuJj...</td>\n",
       "      <td>83</td>\n",
       "      <td>20</td>\n",
       "      <td>1</td>\n",
       "    </tr>\n",
       "    <tr>\n",
       "      <th>8</th>\n",
       "      <td>836637612</td>\n",
       "      <td>1084</td>\n",
       "      <td>165.0</td>\n",
       "      <td>M / 38 / 10</td>\n",
       "      <td>Very good</td>\n",
       "      <td>genuine leather</td>\n",
       "      <td>Black</td>\n",
       "      <td>downloads/36260360/02_00226_Mjxa1wDtJb8XKRuPUe...</td>\n",
       "      <td>534</td>\n",
       "      <td>27</td>\n",
       "      <td>8</td>\n",
       "    </tr>\n",
       "    <tr>\n",
       "      <th>16</th>\n",
       "      <td>841235285</td>\n",
       "      <td>532</td>\n",
       "      <td>60.0</td>\n",
       "      <td>M / 38 / 10</td>\n",
       "      <td>Very good</td>\n",
       "      <td>Dolce &amp; Gabbana</td>\n",
       "      <td>Light blue</td>\n",
       "      <td>downloads/36260360/02_01ed6_iVjkafsoxaFKgQdb2L...</td>\n",
       "      <td>94</td>\n",
       "      <td>9</td>\n",
       "      <td>6</td>\n",
       "    </tr>\n",
       "  </tbody>\n",
       "</table>\n",
       "</div>"
      ],
      "text/plain": [
       "           ID  Category  Price         Size      State            Brand  \\\n",
       "0   841147011      1056   29.0  M / 38 / 10  Very good          Vintage   \n",
       "3   841212517        18   30.0   S / 36 / 8  Very good          Vintage   \n",
       "7   836855778       529   15.0  M / 38 / 10  Very good          Vintage   \n",
       "8   836637612      1084  165.0  M / 38 / 10  Very good  genuine leather   \n",
       "16  841235285       532   60.0  M / 38 / 10  Very good  Dolce & Gabbana   \n",
       "\n",
       "        Colors                                             Images  Views  \\\n",
       "0        Beige  downloads/36260360/02_001dc_MwJ13zB5p3XFmLf1R1...    114   \n",
       "3        Black  downloads/36260360/02_01698_oPJfcfg6w1sGN83REe...    231   \n",
       "7        White  downloads/36260360/02_010a0_wNYXCEeZL6KQQVbuJj...     83   \n",
       "8        Black  downloads/36260360/02_00226_Mjxa1wDtJb8XKRuPUe...    534   \n",
       "16  Light blue  downloads/36260360/02_01ed6_iVjkafsoxaFKgQdb2L...     94   \n",
       "\n",
       "    Interested  Amount_Of_Pictures  \n",
       "0           20                   3  \n",
       "3           26                   4  \n",
       "7           20                   1  \n",
       "8           27                   8  \n",
       "16           9                   6  "
      ]
     },
     "execution_count": 6,
     "metadata": {},
     "output_type": "execute_result"
    }
   ],
   "source": [
    "df_sub = df_sub.drop_duplicates(subset = \"ID\") \n",
    "df_sub.head()"
   ]
  },
  {
   "cell_type": "markdown",
   "metadata": {},
   "source": [
    "Lastly, I am going to drop the column \"Images\" because I don't need it anymore because I already transformed that data into a new useful column. "
   ]
  },
  {
   "cell_type": "code",
   "execution_count": 7,
   "metadata": {},
   "outputs": [
    {
     "data": {
      "text/html": [
       "<div>\n",
       "<style scoped>\n",
       "    .dataframe tbody tr th:only-of-type {\n",
       "        vertical-align: middle;\n",
       "    }\n",
       "\n",
       "    .dataframe tbody tr th {\n",
       "        vertical-align: top;\n",
       "    }\n",
       "\n",
       "    .dataframe thead th {\n",
       "        text-align: right;\n",
       "    }\n",
       "</style>\n",
       "<table border=\"1\" class=\"dataframe\">\n",
       "  <thead>\n",
       "    <tr style=\"text-align: right;\">\n",
       "      <th></th>\n",
       "      <th>ID</th>\n",
       "      <th>Category</th>\n",
       "      <th>Price</th>\n",
       "      <th>Size</th>\n",
       "      <th>State</th>\n",
       "      <th>Brand</th>\n",
       "      <th>Colors</th>\n",
       "      <th>Views</th>\n",
       "      <th>Interested</th>\n",
       "      <th>Amount_Of_Pictures</th>\n",
       "    </tr>\n",
       "  </thead>\n",
       "  <tbody>\n",
       "    <tr>\n",
       "      <th>0</th>\n",
       "      <td>841147011</td>\n",
       "      <td>1056</td>\n",
       "      <td>29.0</td>\n",
       "      <td>M / 38 / 10</td>\n",
       "      <td>Very good</td>\n",
       "      <td>Vintage</td>\n",
       "      <td>Beige</td>\n",
       "      <td>114</td>\n",
       "      <td>20</td>\n",
       "      <td>3</td>\n",
       "    </tr>\n",
       "    <tr>\n",
       "      <th>3</th>\n",
       "      <td>841212517</td>\n",
       "      <td>18</td>\n",
       "      <td>30.0</td>\n",
       "      <td>S / 36 / 8</td>\n",
       "      <td>Very good</td>\n",
       "      <td>Vintage</td>\n",
       "      <td>Black</td>\n",
       "      <td>231</td>\n",
       "      <td>26</td>\n",
       "      <td>4</td>\n",
       "    </tr>\n",
       "    <tr>\n",
       "      <th>7</th>\n",
       "      <td>836855778</td>\n",
       "      <td>529</td>\n",
       "      <td>15.0</td>\n",
       "      <td>M / 38 / 10</td>\n",
       "      <td>Very good</td>\n",
       "      <td>Vintage</td>\n",
       "      <td>White</td>\n",
       "      <td>83</td>\n",
       "      <td>20</td>\n",
       "      <td>1</td>\n",
       "    </tr>\n",
       "    <tr>\n",
       "      <th>8</th>\n",
       "      <td>836637612</td>\n",
       "      <td>1084</td>\n",
       "      <td>165.0</td>\n",
       "      <td>M / 38 / 10</td>\n",
       "      <td>Very good</td>\n",
       "      <td>genuine leather</td>\n",
       "      <td>Black</td>\n",
       "      <td>534</td>\n",
       "      <td>27</td>\n",
       "      <td>8</td>\n",
       "    </tr>\n",
       "    <tr>\n",
       "      <th>16</th>\n",
       "      <td>841235285</td>\n",
       "      <td>532</td>\n",
       "      <td>60.0</td>\n",
       "      <td>M / 38 / 10</td>\n",
       "      <td>Very good</td>\n",
       "      <td>Dolce &amp; Gabbana</td>\n",
       "      <td>Light blue</td>\n",
       "      <td>94</td>\n",
       "      <td>9</td>\n",
       "      <td>6</td>\n",
       "    </tr>\n",
       "  </tbody>\n",
       "</table>\n",
       "</div>"
      ],
      "text/plain": [
       "           ID  Category  Price         Size      State            Brand  \\\n",
       "0   841147011      1056   29.0  M / 38 / 10  Very good          Vintage   \n",
       "3   841212517        18   30.0   S / 36 / 8  Very good          Vintage   \n",
       "7   836855778       529   15.0  M / 38 / 10  Very good          Vintage   \n",
       "8   836637612      1084  165.0  M / 38 / 10  Very good  genuine leather   \n",
       "16  841235285       532   60.0  M / 38 / 10  Very good  Dolce & Gabbana   \n",
       "\n",
       "        Colors  Views  Interested  Amount_Of_Pictures  \n",
       "0        Beige    114          20                   3  \n",
       "3        Black    231          26                   4  \n",
       "7        White     83          20                   1  \n",
       "8        Black    534          27                   8  \n",
       "16  Light blue     94           9                   6  "
      ]
     },
     "execution_count": 7,
     "metadata": {},
     "output_type": "execute_result"
    }
   ],
   "source": [
    "df_sub = df_sub.drop([\"Images\"], axis = 1) \n",
    "df_sub.head()"
   ]
  },
  {
   "cell_type": "markdown",
   "metadata": {},
   "source": [
    "Just to be neat I am going to set the index to the item ID. "
   ]
  },
  {
   "cell_type": "code",
   "execution_count": 8,
   "metadata": {},
   "outputs": [
    {
     "data": {
      "text/html": [
       "<div>\n",
       "<style scoped>\n",
       "    .dataframe tbody tr th:only-of-type {\n",
       "        vertical-align: middle;\n",
       "    }\n",
       "\n",
       "    .dataframe tbody tr th {\n",
       "        vertical-align: top;\n",
       "    }\n",
       "\n",
       "    .dataframe thead th {\n",
       "        text-align: right;\n",
       "    }\n",
       "</style>\n",
       "<table border=\"1\" class=\"dataframe\">\n",
       "  <thead>\n",
       "    <tr style=\"text-align: right;\">\n",
       "      <th></th>\n",
       "      <th>Category</th>\n",
       "      <th>Price</th>\n",
       "      <th>Size</th>\n",
       "      <th>State</th>\n",
       "      <th>Brand</th>\n",
       "      <th>Colors</th>\n",
       "      <th>Views</th>\n",
       "      <th>Interested</th>\n",
       "      <th>Amount_Of_Pictures</th>\n",
       "    </tr>\n",
       "    <tr>\n",
       "      <th>ID</th>\n",
       "      <th></th>\n",
       "      <th></th>\n",
       "      <th></th>\n",
       "      <th></th>\n",
       "      <th></th>\n",
       "      <th></th>\n",
       "      <th></th>\n",
       "      <th></th>\n",
       "      <th></th>\n",
       "    </tr>\n",
       "  </thead>\n",
       "  <tbody>\n",
       "    <tr>\n",
       "      <th>841147011</th>\n",
       "      <td>1056</td>\n",
       "      <td>29.0</td>\n",
       "      <td>M / 38 / 10</td>\n",
       "      <td>Very good</td>\n",
       "      <td>Vintage</td>\n",
       "      <td>Beige</td>\n",
       "      <td>114</td>\n",
       "      <td>20</td>\n",
       "      <td>3</td>\n",
       "    </tr>\n",
       "    <tr>\n",
       "      <th>841212517</th>\n",
       "      <td>18</td>\n",
       "      <td>30.0</td>\n",
       "      <td>S / 36 / 8</td>\n",
       "      <td>Very good</td>\n",
       "      <td>Vintage</td>\n",
       "      <td>Black</td>\n",
       "      <td>231</td>\n",
       "      <td>26</td>\n",
       "      <td>4</td>\n",
       "    </tr>\n",
       "    <tr>\n",
       "      <th>836855778</th>\n",
       "      <td>529</td>\n",
       "      <td>15.0</td>\n",
       "      <td>M / 38 / 10</td>\n",
       "      <td>Very good</td>\n",
       "      <td>Vintage</td>\n",
       "      <td>White</td>\n",
       "      <td>83</td>\n",
       "      <td>20</td>\n",
       "      <td>1</td>\n",
       "    </tr>\n",
       "    <tr>\n",
       "      <th>836637612</th>\n",
       "      <td>1084</td>\n",
       "      <td>165.0</td>\n",
       "      <td>M / 38 / 10</td>\n",
       "      <td>Very good</td>\n",
       "      <td>genuine leather</td>\n",
       "      <td>Black</td>\n",
       "      <td>534</td>\n",
       "      <td>27</td>\n",
       "      <td>8</td>\n",
       "    </tr>\n",
       "    <tr>\n",
       "      <th>841235285</th>\n",
       "      <td>532</td>\n",
       "      <td>60.0</td>\n",
       "      <td>M / 38 / 10</td>\n",
       "      <td>Very good</td>\n",
       "      <td>Dolce &amp; Gabbana</td>\n",
       "      <td>Light blue</td>\n",
       "      <td>94</td>\n",
       "      <td>9</td>\n",
       "      <td>6</td>\n",
       "    </tr>\n",
       "  </tbody>\n",
       "</table>\n",
       "</div>"
      ],
      "text/plain": [
       "           Category  Price         Size      State            Brand  \\\n",
       "ID                                                                    \n",
       "841147011      1056   29.0  M / 38 / 10  Very good          Vintage   \n",
       "841212517        18   30.0   S / 36 / 8  Very good          Vintage   \n",
       "836855778       529   15.0  M / 38 / 10  Very good          Vintage   \n",
       "836637612      1084  165.0  M / 38 / 10  Very good  genuine leather   \n",
       "841235285       532   60.0  M / 38 / 10  Very good  Dolce & Gabbana   \n",
       "\n",
       "               Colors  Views  Interested  Amount_Of_Pictures  \n",
       "ID                                                            \n",
       "841147011       Beige    114          20                   3  \n",
       "841212517       Black    231          26                   4  \n",
       "836855778       White     83          20                   1  \n",
       "836637612       Black    534          27                   8  \n",
       "841235285  Light blue     94           9                   6  "
      ]
     },
     "execution_count": 8,
     "metadata": {},
     "output_type": "execute_result"
    }
   ],
   "source": [
    "df_sub = df_sub.set_index(\"ID\")\n",
    "df_sub.head()"
   ]
  },
  {
   "cell_type": "markdown",
   "metadata": {},
   "source": [
    "To make sure the model won't see the Categories as numbers but as categories I will have to replace them to categorical variables. I had to look into the API and inspect the HTML of Vinted to ensure I classify the category_id to the actual category title."
   ]
  },
  {
   "cell_type": "code",
   "execution_count": 9,
   "metadata": {},
   "outputs": [],
   "source": [
    "cleanup_nums = {\"Category\": {1084: \"Jacket\", 1833: \"Jacket\", 1090: \"Jacket\", 1080: \"Coat\", 1834: \"Coat\", 1804: \"Jacket\", 1078: \"Jacket\", 1079: \"Jacket\", 1075: \"Jacket\", 1831: \"Jacket\", 1081: \"Jacket\", 1086: \"Jacket\", 1832: \"Jacket\", 1773: \"Coat\", 1091: \"Jacket\", 196: \"Sweater\", 190: \"Sweater\", 191: \"Sweater\", 192: \"Sweater\", \n",
    "                             529: \"Sweater\", 193: \"Sweater\", 1066: \"Sweater\", 1067: \"Cardigan\", 194: \"Cardigan\", 195: \"Cardigan\", 1874: \"Cardigan\", 197: \"Sweater\", 532: \"Jacket\", 1125: \"Suit\", 1126: \"Suit\", 1128: \"Suit\", 1129: \"Suit\", \n",
    "                             178: \"Dress\", 1056: \"Dress\", 1055: \"Dress\", 1775: \"Dress\", 1776: \"Dress\", 1777: \"Dress\", 1778: \"Dress\", 1060: \"Dress\", 1065: \"Dress\", 1779: \"Dress\", 1057: \"Dress\", 1059: \"Dress\", \n",
    "                             1061: \"Dress\", 1058: \"Dress\", 179: \"Dress\", 176: \"Dress\", 198: \"Skirt\", 199: \"Skirt\", 200: \"Skirt\", 1092: \"Skirt\", 1093: \"Skirt\", 1094: \"Skirt\", 540: \"Skirt\", 1097: \"Skirt\", \n",
    "                             539: \"Skirt\", 541: \"Skirt\", 542: \"Skirt\", 1: \"Top\", 534: \"Cardigan\", 227: \"Top\", 1041: \"Top\", 223: \"Blouse\", 224: \"Blouse\", 225: \"Blouse\", 1835: \"Top\", 1042: \"Top\", 1045: \"Top\", 1837: \"Top\", \n",
    "                             1044: \"Top\", 228: \"Top\", 1839: \"Jeans\", 1840: \"Jeans\", 1841: \"Jeans\", 1842: \"Jeans\", 1843: \"Jeans\", 1844: \"Jeans\", 1845: \"Jeans\", 1864: \"Jeans\",1070: \"Pants\", 1071: \"Pants\", 185: \"Pants\", 187: \"Pants\", \n",
    "                             1846: \"Pants\", 184: \"Pants\", 525: \"Pants\", 526: \"Pants\", 189: \"Pants\", 1838: \"Shorts\", 1099: \"Shorts\", 203: \"Shorts\", 538: \"Shorts\", 1101: \"Shorts\", 1100: \"Shorts\", 1103: \"Shorts\", 204: \"Shorts\", \n",
    "                             205: \"Shorts\", 1131: \"Suit\", 1132: \"Suit\", 1134: \"Suit\",218: \"Swimsuit\", 219: \"Swimsuit\", 1780: \"Accessory\", 119: \"Underwear\", 120: \"Underwear\", 229: \"Underwear\",1781: \"Underwear\", \n",
    "                             123: \"Pajamas\", 1030: \"Pajamas\", 1263: \"Accessory\", 1262: \"Accessory\", 1847: \"Accessory\", 124: \"Pajamas\", 571: \"Athletic Wear\", 572: \"Athletic Wear\", 573: \"Athletic Wear\", 577: \"Athletic Wear\",\n",
    "                             1440: \"Accessory\", 1782: \"Suit\", 18: \"Suit\", 216: \"Shoes\", 214: \"Sneakers\", 1449: \"Sneakers\", 207: \"Shoes\", 210: \"Boots\", 1052: \"Shoes\", 1050: \"Shoes\", 1046: \"Heels\", 544: \"Heels\", 206: \"Heels\", 211: \"Boots\", \n",
    "                             156: \"Bag\", 158: \"Bag\", 552: \"Bag\", 159: \"Bag\", 1848: \"Bag\", 1493: \"Bag\", 155: \"Bag\", 1140: \"Accessory\", 1852: \"Accessory\", 1221: \"Accessory\", 1123: \"Accessory\", 230: \"Hat\", 231: \"Hat\", 233: \"Hat\", \n",
    "                             90: \"Accessory\", 236: \"Accessory\", 239: \"Accessory\", 240: \"Accessory\", 26: \"Accessory\", 20: \"Accessory\", 22: \"Jewellery\", 553: \"Jewellery\", 163: \"Jewellery\", 165: \"Jewellery\", 164: \"Jewellery\", 166: \"Jewellery\", \n",
    "                             162: \"Jewellery\", 948: \"Makeup\", 1856: \"Mens Coat\", 1229: \"Mens Coat\", 1224: \"Mens Jacket\", 1228: \"Mens Jacket\", 1856: \"Mens Jacket\", 1260: \"Other Jacket\", 1801: \"Mens Shirt\", 1802: \"Mens Shirt\", 1803: \"Mens Shirt\", 1804: \"Mens Shirt\",\n",
    "                             1808: \"Mens Top\", 1809: \"Mens Top\", 1810: \"Mens Top\", 1812: \"Mens Sweater\", 1813: \"Mens Sweater\", 264: \"Mens Sweater\", 1815: \"Mens Sweater\", 582: \"Mens Suit\", 266: \"Mens Top\",\n",
    "                             1083: \"Coat\", 1786: \"Mens Jacket\", 1787: \"Mens Pants\", 1866: \"Mens Tops\", 1586: \"Accessory\", 1043: \"Blouse\", 221: \"Top\", 14: \"Top\", 222: \"Top\", 93: \"Accessory\", 241: \"Jewellery\", 1956: \"Homeware\",\n",
    "                             283: \"Accessory\", 201: \"Skirt\", 143: \"Makeup\", 1974: \"Accessory\", 2038: \"Homeware\", 247: \"Bag\", 964: \"Makeup\", 2024: \"Homeware\", 1979: \"Homeware\", 1928: \"Homeware\"}}"
   ]
  },
  {
   "cell_type": "markdown",
   "metadata": {},
   "source": [
    "And now to actually rename the categories:"
   ]
  },
  {
   "cell_type": "code",
   "execution_count": 10,
   "metadata": {},
   "outputs": [
    {
     "data": {
      "text/html": [
       "<div>\n",
       "<style scoped>\n",
       "    .dataframe tbody tr th:only-of-type {\n",
       "        vertical-align: middle;\n",
       "    }\n",
       "\n",
       "    .dataframe tbody tr th {\n",
       "        vertical-align: top;\n",
       "    }\n",
       "\n",
       "    .dataframe thead th {\n",
       "        text-align: right;\n",
       "    }\n",
       "</style>\n",
       "<table border=\"1\" class=\"dataframe\">\n",
       "  <thead>\n",
       "    <tr style=\"text-align: right;\">\n",
       "      <th></th>\n",
       "      <th>Category</th>\n",
       "      <th>Price</th>\n",
       "      <th>Size</th>\n",
       "      <th>State</th>\n",
       "      <th>Brand</th>\n",
       "      <th>Colors</th>\n",
       "      <th>Views</th>\n",
       "      <th>Interested</th>\n",
       "      <th>Amount_Of_Pictures</th>\n",
       "    </tr>\n",
       "    <tr>\n",
       "      <th>ID</th>\n",
       "      <th></th>\n",
       "      <th></th>\n",
       "      <th></th>\n",
       "      <th></th>\n",
       "      <th></th>\n",
       "      <th></th>\n",
       "      <th></th>\n",
       "      <th></th>\n",
       "      <th></th>\n",
       "    </tr>\n",
       "  </thead>\n",
       "  <tbody>\n",
       "    <tr>\n",
       "      <th>841147011</th>\n",
       "      <td>Dress</td>\n",
       "      <td>29.0</td>\n",
       "      <td>M / 38 / 10</td>\n",
       "      <td>Very good</td>\n",
       "      <td>Vintage</td>\n",
       "      <td>Beige</td>\n",
       "      <td>114</td>\n",
       "      <td>20</td>\n",
       "      <td>3</td>\n",
       "    </tr>\n",
       "    <tr>\n",
       "      <th>841212517</th>\n",
       "      <td>Suit</td>\n",
       "      <td>30.0</td>\n",
       "      <td>S / 36 / 8</td>\n",
       "      <td>Very good</td>\n",
       "      <td>Vintage</td>\n",
       "      <td>Black</td>\n",
       "      <td>231</td>\n",
       "      <td>26</td>\n",
       "      <td>4</td>\n",
       "    </tr>\n",
       "    <tr>\n",
       "      <th>836855778</th>\n",
       "      <td>Sweater</td>\n",
       "      <td>15.0</td>\n",
       "      <td>M / 38 / 10</td>\n",
       "      <td>Very good</td>\n",
       "      <td>Vintage</td>\n",
       "      <td>White</td>\n",
       "      <td>83</td>\n",
       "      <td>20</td>\n",
       "      <td>1</td>\n",
       "    </tr>\n",
       "    <tr>\n",
       "      <th>836637612</th>\n",
       "      <td>Jacket</td>\n",
       "      <td>165.0</td>\n",
       "      <td>M / 38 / 10</td>\n",
       "      <td>Very good</td>\n",
       "      <td>genuine leather</td>\n",
       "      <td>Black</td>\n",
       "      <td>534</td>\n",
       "      <td>27</td>\n",
       "      <td>8</td>\n",
       "    </tr>\n",
       "    <tr>\n",
       "      <th>841235285</th>\n",
       "      <td>Jacket</td>\n",
       "      <td>60.0</td>\n",
       "      <td>M / 38 / 10</td>\n",
       "      <td>Very good</td>\n",
       "      <td>Dolce &amp; Gabbana</td>\n",
       "      <td>Light blue</td>\n",
       "      <td>94</td>\n",
       "      <td>9</td>\n",
       "      <td>6</td>\n",
       "    </tr>\n",
       "  </tbody>\n",
       "</table>\n",
       "</div>"
      ],
      "text/plain": [
       "          Category  Price         Size      State            Brand  \\\n",
       "ID                                                                   \n",
       "841147011    Dress   29.0  M / 38 / 10  Very good          Vintage   \n",
       "841212517     Suit   30.0   S / 36 / 8  Very good          Vintage   \n",
       "836855778  Sweater   15.0  M / 38 / 10  Very good          Vintage   \n",
       "836637612   Jacket  165.0  M / 38 / 10  Very good  genuine leather   \n",
       "841235285   Jacket   60.0  M / 38 / 10  Very good  Dolce & Gabbana   \n",
       "\n",
       "               Colors  Views  Interested  Amount_Of_Pictures  \n",
       "ID                                                            \n",
       "841147011       Beige    114          20                   3  \n",
       "841212517       Black    231          26                   4  \n",
       "836855778       White     83          20                   1  \n",
       "836637612       Black    534          27                   8  \n",
       "841235285  Light blue     94           9                   6  "
      ]
     },
     "execution_count": 10,
     "metadata": {},
     "output_type": "execute_result"
    }
   ],
   "source": [
    "df_sub = df_sub.replace(cleanup_nums)\n",
    "df_sub.head()"
   ]
  },
  {
   "cell_type": "markdown",
   "metadata": {},
   "source": [
    "Then I decided to create a new column of the ratio of views and interested to display the 'popularity' of the item."
   ]
  },
  {
   "cell_type": "code",
   "execution_count": 11,
   "metadata": {},
   "outputs": [
    {
     "data": {
      "text/html": [
       "<div>\n",
       "<style scoped>\n",
       "    .dataframe tbody tr th:only-of-type {\n",
       "        vertical-align: middle;\n",
       "    }\n",
       "\n",
       "    .dataframe tbody tr th {\n",
       "        vertical-align: top;\n",
       "    }\n",
       "\n",
       "    .dataframe thead th {\n",
       "        text-align: right;\n",
       "    }\n",
       "</style>\n",
       "<table border=\"1\" class=\"dataframe\">\n",
       "  <thead>\n",
       "    <tr style=\"text-align: right;\">\n",
       "      <th></th>\n",
       "      <th>Category</th>\n",
       "      <th>Price</th>\n",
       "      <th>Size</th>\n",
       "      <th>State</th>\n",
       "      <th>Brand</th>\n",
       "      <th>Colors</th>\n",
       "      <th>Views</th>\n",
       "      <th>Interested</th>\n",
       "      <th>Amount_Of_Pictures</th>\n",
       "      <th>Ratio</th>\n",
       "    </tr>\n",
       "    <tr>\n",
       "      <th>ID</th>\n",
       "      <th></th>\n",
       "      <th></th>\n",
       "      <th></th>\n",
       "      <th></th>\n",
       "      <th></th>\n",
       "      <th></th>\n",
       "      <th></th>\n",
       "      <th></th>\n",
       "      <th></th>\n",
       "      <th></th>\n",
       "    </tr>\n",
       "  </thead>\n",
       "  <tbody>\n",
       "    <tr>\n",
       "      <th>841147011</th>\n",
       "      <td>Dress</td>\n",
       "      <td>29.0</td>\n",
       "      <td>M / 38 / 10</td>\n",
       "      <td>Very good</td>\n",
       "      <td>Vintage</td>\n",
       "      <td>Beige</td>\n",
       "      <td>114</td>\n",
       "      <td>20</td>\n",
       "      <td>3</td>\n",
       "      <td>5.700000</td>\n",
       "    </tr>\n",
       "    <tr>\n",
       "      <th>841212517</th>\n",
       "      <td>Suit</td>\n",
       "      <td>30.0</td>\n",
       "      <td>S / 36 / 8</td>\n",
       "      <td>Very good</td>\n",
       "      <td>Vintage</td>\n",
       "      <td>Black</td>\n",
       "      <td>231</td>\n",
       "      <td>26</td>\n",
       "      <td>4</td>\n",
       "      <td>8.884615</td>\n",
       "    </tr>\n",
       "    <tr>\n",
       "      <th>836855778</th>\n",
       "      <td>Sweater</td>\n",
       "      <td>15.0</td>\n",
       "      <td>M / 38 / 10</td>\n",
       "      <td>Very good</td>\n",
       "      <td>Vintage</td>\n",
       "      <td>White</td>\n",
       "      <td>83</td>\n",
       "      <td>20</td>\n",
       "      <td>1</td>\n",
       "      <td>4.150000</td>\n",
       "    </tr>\n",
       "    <tr>\n",
       "      <th>836637612</th>\n",
       "      <td>Jacket</td>\n",
       "      <td>165.0</td>\n",
       "      <td>M / 38 / 10</td>\n",
       "      <td>Very good</td>\n",
       "      <td>genuine leather</td>\n",
       "      <td>Black</td>\n",
       "      <td>534</td>\n",
       "      <td>27</td>\n",
       "      <td>8</td>\n",
       "      <td>19.777778</td>\n",
       "    </tr>\n",
       "    <tr>\n",
       "      <th>841235285</th>\n",
       "      <td>Jacket</td>\n",
       "      <td>60.0</td>\n",
       "      <td>M / 38 / 10</td>\n",
       "      <td>Very good</td>\n",
       "      <td>Dolce &amp; Gabbana</td>\n",
       "      <td>Light blue</td>\n",
       "      <td>94</td>\n",
       "      <td>9</td>\n",
       "      <td>6</td>\n",
       "      <td>10.444444</td>\n",
       "    </tr>\n",
       "  </tbody>\n",
       "</table>\n",
       "</div>"
      ],
      "text/plain": [
       "          Category  Price         Size      State            Brand  \\\n",
       "ID                                                                   \n",
       "841147011    Dress   29.0  M / 38 / 10  Very good          Vintage   \n",
       "841212517     Suit   30.0   S / 36 / 8  Very good          Vintage   \n",
       "836855778  Sweater   15.0  M / 38 / 10  Very good          Vintage   \n",
       "836637612   Jacket  165.0  M / 38 / 10  Very good  genuine leather   \n",
       "841235285   Jacket   60.0  M / 38 / 10  Very good  Dolce & Gabbana   \n",
       "\n",
       "               Colors  Views  Interested  Amount_Of_Pictures      Ratio  \n",
       "ID                                                                       \n",
       "841147011       Beige    114          20                   3   5.700000  \n",
       "841212517       Black    231          26                   4   8.884615  \n",
       "836855778       White     83          20                   1   4.150000  \n",
       "836637612       Black    534          27                   8  19.777778  \n",
       "841235285  Light blue     94           9                   6  10.444444  "
      ]
     },
     "execution_count": 11,
     "metadata": {},
     "output_type": "execute_result"
    }
   ],
   "source": [
    "df_sub[\"Ratio\"] = df_sub[\"Views\"] / df_sub[\"Interested\"]\n",
    "df_sub.head()"
   ]
  },
  {
   "cell_type": "markdown",
   "metadata": {},
   "source": [
    "Then deleting the columns I used to create the column \"Ratio\" because the dataset doesn't ne3ed columns that basically say the same thing."
   ]
  },
  {
   "cell_type": "code",
   "execution_count": 12,
   "metadata": {},
   "outputs": [],
   "source": [
    "del df_sub[\"Views\"]\n",
    "del df_sub[\"Interested\"]"
   ]
  },
  {
   "cell_type": "markdown",
   "metadata": {},
   "source": [
    "I want to save the cleaned dataset to load it into a new notebook where I am actually going to make my model for the project.\n",
    "The reason why I want to do this is because I want to have a clear head when making the model and less noise as possible. "
   ]
  },
  {
   "cell_type": "code",
   "execution_count": 13,
   "metadata": {},
   "outputs": [],
   "source": [
    "df_sub.to_csv(\"cleaned_vinted.csv\")"
   ]
  },
  {
   "cell_type": "markdown",
   "metadata": {},
   "source": [
    "## Exploratory Data Analysis ##"
   ]
  },
  {
   "cell_type": "markdown",
   "metadata": {},
   "source": [
    "### Distribution between Price and Category ###"
   ]
  },
  {
   "cell_type": "markdown",
   "metadata": {},
   "source": [
    "First I want to look a the distribution category of the item and the price. Firstly I need to look at the frequencies each category appears in my dataset to know where to begin and what could be useful to analyze."
   ]
  },
  {
   "cell_type": "code",
   "execution_count": 14,
   "metadata": {},
   "outputs": [
    {
     "data": {
      "text/plain": [
       "Top              119\n",
       "Blouse           110\n",
       "Jacket            89\n",
       "Sweater           85\n",
       "Dress             71\n",
       "Cardigan          45\n",
       "Jewellery         43\n",
       "Pants             38\n",
       "Skirt             33\n",
       "Bag               26\n",
       "Accessory         26\n",
       "Underwear         26\n",
       "Jeans             21\n",
       "Suit              20\n",
       "Coat              17\n",
       "Pajamas           11\n",
       "Mens Top          10\n",
       "Shoes             10\n",
       "Boots              8\n",
       "Mens Jacket        8\n",
       "Sneakers           7\n",
       "Makeup             7\n",
       "Swimsuit           7\n",
       "Heels              7\n",
       "Mens Sweater       6\n",
       "Mens Shirt         6\n",
       "Homeware           6\n",
       "Athletic Wear      5\n",
       "Hat                4\n",
       "Shorts             4\n",
       "Mens Pants         1\n",
       "Mens Coat          1\n",
       "Mens Tops          1\n",
       "Mens Suit          1\n",
       "Name: Category, dtype: int64"
      ]
     },
     "execution_count": 14,
     "metadata": {},
     "output_type": "execute_result"
    }
   ],
   "source": [
    "df_sub[\"Category\"].value_counts()"
   ]
  },
  {
   "cell_type": "markdown",
   "metadata": {},
   "source": [
    "As you can see there are also quite a few items with less frequencies. They are not very useful when I want to, for example, calculate the mean. Therefore, I have decided for this analysis, the distribution of category and price, I am only going to use categories who have a frequency of 10 or more items. Below you see boxplots of each category with the mean and mode calculated as well."
   ]
  },
  {
   "cell_type": "code",
   "execution_count": 15,
   "metadata": {},
   "outputs": [
    {
     "name": "stderr",
     "output_type": "stream",
     "text": [
      "C:\\Users\\NMari\\anaconda3\\lib\\site-packages\\ipykernel_launcher.py:2: SettingWithCopyWarning: \n",
      "A value is trying to be set on a copy of a slice from a DataFrame.\n",
      "Try using .loc[row_indexer,col_indexer] = value instead\n",
      "\n",
      "See the caveats in the documentation: https://pandas.pydata.org/pandas-docs/stable/user_guide/indexing.html#returning-a-view-versus-a-copy\n",
      "  \n"
     ]
    },
    {
     "name": "stdout",
     "output_type": "stream",
     "text": [
      "mode: 10.0\n",
      "mean: 11.68857142857143\n"
     ]
    },
    {
     "data": {
      "image/png": "[encoded data removed]",
      "text/plain": [
       "<Figure size 360x360 with 1 Axes>"
      ]
     },
     "metadata": {
      "needs_background": "light"
     },
     "output_type": "display_data"
    }
   ],
   "source": [
    "df_med = df_sub[[\"Category\", \"Price\"]]\n",
    "df_med[\"Category\"] = df_med[(df_med[\"Category\"] == \"Top\")]\n",
    "df_med = df_med.dropna()\n",
    "                            \n",
    "sns.catplot(x = \"Category\", y = \"Price\", kind = \"box\", data = df_med)\n",
    "\n",
    "print('mode: ' + str(df_med[[\"Price\"]].mode()[\"Price\"][0]))\n",
    "print('mean: ' + str(float(df_med[[\"Price\"]].mean())))"
   ]
  },
  {
   "cell_type": "code",
   "execution_count": 16,
   "metadata": {},
   "outputs": [
    {
     "name": "stderr",
     "output_type": "stream",
     "text": [
      "C:\\Users\\NMari\\anaconda3\\lib\\site-packages\\ipykernel_launcher.py:2: SettingWithCopyWarning: \n",
      "A value is trying to be set on a copy of a slice from a DataFrame.\n",
      "Try using .loc[row_indexer,col_indexer] = value instead\n",
      "\n",
      "See the caveats in the documentation: https://pandas.pydata.org/pandas-docs/stable/user_guide/indexing.html#returning-a-view-versus-a-copy\n",
      "  \n"
     ]
    },
    {
     "name": "stdout",
     "output_type": "stream",
     "text": [
      "mode: 15.0\n",
      "mean: 15.714090909090917\n"
     ]
    },
    {
     "data": {
      "image/png": "[encoded data removed]",
      "text/plain": [
       "<Figure size 360x360 with 1 Axes>"
      ]
     },
     "metadata": {
      "needs_background": "light"
     },
     "output_type": "display_data"
    }
   ],
   "source": [
    "df_med = df_sub[[\"Category\", \"Price\"]]\n",
    "df_med[\"Category\"] = df_med[(df_med[\"Category\"] == \"Blouse\")]\n",
    "df_med = df_med.dropna() \n",
    "\n",
    "sns.catplot(x = \"Category\", y = \"Price\", kind = \"box\", data = df_med)\n",
    "\n",
    "print('mode: ' + str(df_med[[\"Price\"]].mode()[\"Price\"][0]))\n",
    "print('mean: ' + str(float(df_med[[\"Price\"]].mean())))"
   ]
  },
  {
   "cell_type": "code",
   "execution_count": 17,
   "metadata": {},
   "outputs": [
    {
     "name": "stderr",
     "output_type": "stream",
     "text": [
      "C:\\Users\\NMari\\anaconda3\\lib\\site-packages\\ipykernel_launcher.py:2: SettingWithCopyWarning: \n",
      "A value is trying to be set on a copy of a slice from a DataFrame.\n",
      "Try using .loc[row_indexer,col_indexer] = value instead\n",
      "\n",
      "See the caveats in the documentation: https://pandas.pydata.org/pandas-docs/stable/user_guide/indexing.html#returning-a-view-versus-a-copy\n",
      "  \n"
     ]
    },
    {
     "name": "stdout",
     "output_type": "stream",
     "text": [
      "mode: 55.0\n",
      "mean: 55.536516853932575\n"
     ]
    },
    {
     "data": {
      "image/png": "[encoded data removed]",
      "text/plain": [
       "<Figure size 360x360 with 1 Axes>"
      ]
     },
     "metadata": {
      "needs_background": "light"
     },
     "output_type": "display_data"
    }
   ],
   "source": [
    "df_med = df_sub[[\"Category\", \"Price\"]]\n",
    "df_med[\"Category\"] = df_med[(df_med[\"Category\"] == \"Jacket\")]\n",
    "df_med = df_med.dropna() \n",
    "\n",
    "sns.catplot(x = \"Category\", y = \"Price\", kind = \"box\", data = df_med)\n",
    "\n",
    "print('mode: ' + str(df_med[[\"Price\"]].mode()[\"Price\"][0]))\n",
    "print('mean: ' + str(float(df_med[[\"Price\"]].mean())))"
   ]
  },
  {
   "cell_type": "code",
   "execution_count": 18,
   "metadata": {},
   "outputs": [
    {
     "name": "stderr",
     "output_type": "stream",
     "text": [
      "C:\\Users\\NMari\\anaconda3\\lib\\site-packages\\ipykernel_launcher.py:2: SettingWithCopyWarning: \n",
      "A value is trying to be set on a copy of a slice from a DataFrame.\n",
      "Try using .loc[row_indexer,col_indexer] = value instead\n",
      "\n",
      "See the caveats in the documentation: https://pandas.pydata.org/pandas-docs/stable/user_guide/indexing.html#returning-a-view-versus-a-copy\n",
      "  \n"
     ]
    },
    {
     "name": "stdout",
     "output_type": "stream",
     "text": [
      "mode: 5.0\n",
      "mean: 19.445294117647062\n"
     ]
    },
    {
     "data": {
      "image/png": "[encoded data removed]",
      "text/plain": [
       "<Figure size 360x360 with 1 Axes>"
      ]
     },
     "metadata": {
      "needs_background": "light"
     },
     "output_type": "display_data"
    }
   ],
   "source": [
    "df_med = df_sub[[\"Category\", \"Price\"]]\n",
    "df_med[\"Category\"] = df_med[(df_med[\"Category\"] == \"Sweater\")]\n",
    "df_med = df_med.dropna() \n",
    "\n",
    "sns.catplot(x = \"Category\", y = \"Price\", kind = \"box\", data = df_med)\n",
    "\n",
    "print('mode: ' + str(df_med[[\"Price\"]].mode()[\"Price\"][0]))\n",
    "print('mean: ' + str(float(df_med[[\"Price\"]].mean())))"
   ]
  },
  {
   "cell_type": "code",
   "execution_count": 19,
   "metadata": {},
   "outputs": [
    {
     "name": "stdout",
     "output_type": "stream",
     "text": [
      "mode: 15.0\n",
      "mean: 19.10056338028169\n"
     ]
    },
    {
     "name": "stderr",
     "output_type": "stream",
     "text": [
      "C:\\Users\\NMari\\anaconda3\\lib\\site-packages\\ipykernel_launcher.py:2: SettingWithCopyWarning: \n",
      "A value is trying to be set on a copy of a slice from a DataFrame.\n",
      "Try using .loc[row_indexer,col_indexer] = value instead\n",
      "\n",
      "See the caveats in the documentation: https://pandas.pydata.org/pandas-docs/stable/user_guide/indexing.html#returning-a-view-versus-a-copy\n",
      "  \n"
     ]
    },
    {
     "data": {
      "image/png": "[encoded data removed]",
      "text/plain": [
       "<Figure size 360x360 with 1 Axes>"
      ]
     },
     "metadata": {
      "needs_background": "light"
     },
     "output_type": "display_data"
    }
   ],
   "source": [
    "df_med = df_sub[[\"Category\", \"Price\"]]\n",
    "df_med[\"Category\"] = df_med[(df_med[\"Category\"] == \"Dress\")]\n",
    "df_med = df_med.dropna() \n",
    "\n",
    "sns.catplot(x = \"Category\", y = \"Price\", kind = \"box\", data = df_med)\n",
    "\n",
    "print('mode: ' + str(df_med[[\"Price\"]].mode()[\"Price\"][0]))\n",
    "print('mean: ' + str(float(df_med[[\"Price\"]].mean())))"
   ]
  },
  {
   "cell_type": "code",
   "execution_count": 20,
   "metadata": {},
   "outputs": [
    {
     "name": "stderr",
     "output_type": "stream",
     "text": [
      "C:\\Users\\NMari\\anaconda3\\lib\\site-packages\\ipykernel_launcher.py:2: SettingWithCopyWarning: \n",
      "A value is trying to be set on a copy of a slice from a DataFrame.\n",
      "Try using .loc[row_indexer,col_indexer] = value instead\n",
      "\n",
      "See the caveats in the documentation: https://pandas.pydata.org/pandas-docs/stable/user_guide/indexing.html#returning-a-view-versus-a-copy\n",
      "  \n"
     ]
    },
    {
     "name": "stdout",
     "output_type": "stream",
     "text": [
      "mode: 30.0\n",
      "mean: 25.925333333333334\n"
     ]
    },
    {
     "data": {
      "image/png": "[encoded data removed]",
      "text/plain": [
       "<Figure size 360x360 with 1 Axes>"
      ]
     },
     "metadata": {
      "needs_background": "light"
     },
     "output_type": "display_data"
    }
   ],
   "source": [
    "df_med = df_sub[[\"Category\", \"Price\"]]\n",
    "df_med[\"Category\"] = df_med[(df_med[\"Category\"] == \"Cardigan\")]\n",
    "df_med = df_med.dropna() \n",
    "\n",
    "sns.catplot(x = \"Category\", y = \"Price\", kind = \"box\", data = df_med)\n",
    "\n",
    "print('mode: ' + str(df_med[[\"Price\"]].mode()[\"Price\"][0]))\n",
    "print('mean: ' + str(float(df_med[[\"Price\"]].mean())))"
   ]
  },
  {
   "cell_type": "code",
   "execution_count": 21,
   "metadata": {},
   "outputs": [
    {
     "name": "stderr",
     "output_type": "stream",
     "text": [
      "C:\\Users\\NMari\\anaconda3\\lib\\site-packages\\ipykernel_launcher.py:2: SettingWithCopyWarning: \n",
      "A value is trying to be set on a copy of a slice from a DataFrame.\n",
      "Try using .loc[row_indexer,col_indexer] = value instead\n",
      "\n",
      "See the caveats in the documentation: https://pandas.pydata.org/pandas-docs/stable/user_guide/indexing.html#returning-a-view-versus-a-copy\n",
      "  \n"
     ]
    },
    {
     "name": "stdout",
     "output_type": "stream",
     "text": [
      "mode: 3.0\n",
      "mean: 14.660465116279068\n"
     ]
    },
    {
     "data": {
      "image/png": "[encoded data removed]",
      "text/plain": [
       "<Figure size 360x360 with 1 Axes>"
      ]
     },
     "metadata": {
      "needs_background": "light"
     },
     "output_type": "display_data"
    }
   ],
   "source": [
    "df_med = df_sub[[\"Category\", \"Price\"]]\n",
    "df_med[\"Category\"] = df_med[(df_med[\"Category\"] == \"Jewellery\")]\n",
    "df_med = df_med.dropna() \n",
    "\n",
    "sns.catplot(x = \"Category\", y = \"Price\", kind = \"box\", data = df_med)\n",
    "\n",
    "print('mode: ' + str(df_med[[\"Price\"]].mode()[\"Price\"][0]))\n",
    "print('mean: ' + str(float(df_med[[\"Price\"]].mean())))"
   ]
  },
  {
   "cell_type": "code",
   "execution_count": 22,
   "metadata": {},
   "outputs": [
    {
     "name": "stderr",
     "output_type": "stream",
     "text": [
      "C:\\Users\\NMari\\anaconda3\\lib\\site-packages\\ipykernel_launcher.py:2: SettingWithCopyWarning: \n",
      "A value is trying to be set on a copy of a slice from a DataFrame.\n",
      "Try using .loc[row_indexer,col_indexer] = value instead\n",
      "\n",
      "See the caveats in the documentation: https://pandas.pydata.org/pandas-docs/stable/user_guide/indexing.html#returning-a-view-versus-a-copy\n",
      "  \n"
     ]
    },
    {
     "name": "stdout",
     "output_type": "stream",
     "text": [
      "mode: 5.0\n",
      "mean: 18.42236842105263\n"
     ]
    },
    {
     "data": {
      "image/png": "[encoded data removed]",
      "text/plain": [
       "<Figure size 360x360 with 1 Axes>"
      ]
     },
     "metadata": {
      "needs_background": "light"
     },
     "output_type": "display_data"
    }
   ],
   "source": [
    "df_med = df_sub[[\"Category\", \"Price\"]]\n",
    "df_med[\"Category\"] = df_med[(df_med[\"Category\"] == \"Pants\")]\n",
    "df_med = df_med.dropna() \n",
    "\n",
    "sns.catplot(x = \"Category\", y = \"Price\", kind = \"box\", data = df_med)\n",
    "\n",
    "print('mode: ' + str(df_med[[\"Price\"]].mode()[\"Price\"][0]))\n",
    "print('mean: ' + str(float(df_med[[\"Price\"]].mean())))"
   ]
  },
  {
   "cell_type": "code",
   "execution_count": 23,
   "metadata": {},
   "outputs": [
    {
     "name": "stderr",
     "output_type": "stream",
     "text": [
      "C:\\Users\\NMari\\anaconda3\\lib\\site-packages\\ipykernel_launcher.py:2: SettingWithCopyWarning: \n",
      "A value is trying to be set on a copy of a slice from a DataFrame.\n",
      "Try using .loc[row_indexer,col_indexer] = value instead\n",
      "\n",
      "See the caveats in the documentation: https://pandas.pydata.org/pandas-docs/stable/user_guide/indexing.html#returning-a-view-versus-a-copy\n",
      "  \n"
     ]
    },
    {
     "name": "stdout",
     "output_type": "stream",
     "text": [
      "mode: 5.0\n",
      "mean: 13.48484848484848\n"
     ]
    },
    {
     "data": {
      "image/png": "[encoded data removed]",
      "text/plain": [
       "<Figure size 360x360 with 1 Axes>"
      ]
     },
     "metadata": {
      "needs_background": "light"
     },
     "output_type": "display_data"
    }
   ],
   "source": [
    "df_med = df_sub[[\"Category\", \"Price\"]]\n",
    "df_med[\"Category\"] = df_med[(df_med[\"Category\"] == \"Skirt\")]\n",
    "df_med = df_med.dropna() \n",
    "\n",
    "sns.catplot(x = \"Category\", y = \"Price\", kind = \"box\", data = df_med)\n",
    "\n",
    "print('mode: ' + str(df_med[[\"Price\"]].mode()[\"Price\"][0]))\n",
    "print('mean: ' + str(float(df_med[[\"Price\"]].mean())))"
   ]
  },
  {
   "cell_type": "code",
   "execution_count": 24,
   "metadata": {},
   "outputs": [
    {
     "name": "stderr",
     "output_type": "stream",
     "text": [
      "C:\\Users\\NMari\\anaconda3\\lib\\site-packages\\ipykernel_launcher.py:2: SettingWithCopyWarning: \n",
      "A value is trying to be set on a copy of a slice from a DataFrame.\n",
      "Try using .loc[row_indexer,col_indexer] = value instead\n",
      "\n",
      "See the caveats in the documentation: https://pandas.pydata.org/pandas-docs/stable/user_guide/indexing.html#returning-a-view-versus-a-copy\n",
      "  \n"
     ]
    },
    {
     "name": "stdout",
     "output_type": "stream",
     "text": [
      "mode: 12.0\n",
      "mean: 22.26923076923077\n"
     ]
    },
    {
     "data": {
      "image/png": "[encoded data removed]",
      "text/plain": [
       "<Figure size 360x360 with 1 Axes>"
      ]
     },
     "metadata": {
      "needs_background": "light"
     },
     "output_type": "display_data"
    }
   ],
   "source": [
    "df_med = df_sub[[\"Category\", \"Price\"]]\n",
    "df_med[\"Category\"] = df_med[(df_med[\"Category\"] == \"Underwear\")]\n",
    "df_med = df_med.dropna() \n",
    "\n",
    "sns.catplot(x = \"Category\", y = \"Price\", kind = \"box\", data = df_med)\n",
    "\n",
    "print('mode: ' + str(df_med[[\"Price\"]].mode()[\"Price\"][0]))\n",
    "print('mean: ' + str(float(df_med[[\"Price\"]].mean())))"
   ]
  },
  {
   "cell_type": "code",
   "execution_count": 25,
   "metadata": {},
   "outputs": [
    {
     "name": "stderr",
     "output_type": "stream",
     "text": [
      "C:\\Users\\NMari\\anaconda3\\lib\\site-packages\\ipykernel_launcher.py:2: SettingWithCopyWarning: \n",
      "A value is trying to be set on a copy of a slice from a DataFrame.\n",
      "Try using .loc[row_indexer,col_indexer] = value instead\n",
      "\n",
      "See the caveats in the documentation: https://pandas.pydata.org/pandas-docs/stable/user_guide/indexing.html#returning-a-view-versus-a-copy\n",
      "  \n"
     ]
    },
    {
     "name": "stdout",
     "output_type": "stream",
     "text": [
      "mode: 10.0\n",
      "mean: 11.349999999999996\n"
     ]
    },
    {
     "data": {
      "image/png": "[encoded data removed]",
      "text/plain": [
       "<Figure size 360x360 with 1 Axes>"
      ]
     },
     "metadata": {
      "needs_background": "light"
     },
     "output_type": "display_data"
    }
   ],
   "source": [
    "df_med = df_sub[[\"Category\", \"Price\"]]\n",
    "df_med[\"Category\"] = df_med[(df_med[\"Category\"] == \"Bag\")]\n",
    "df_med = df_med.dropna() \n",
    "\n",
    "sns.catplot(x = \"Category\", y = \"Price\", kind = \"box\", data = df_med)\n",
    "\n",
    "print('mode: ' + str(df_med[[\"Price\"]].mode()[\"Price\"][0]))\n",
    "print('mean: ' + str(float(df_med[[\"Price\"]].mean())))"
   ]
  },
  {
   "cell_type": "code",
   "execution_count": 26,
   "metadata": {},
   "outputs": [
    {
     "name": "stderr",
     "output_type": "stream",
     "text": [
      "C:\\Users\\NMari\\anaconda3\\lib\\site-packages\\ipykernel_launcher.py:2: SettingWithCopyWarning: \n",
      "A value is trying to be set on a copy of a slice from a DataFrame.\n",
      "Try using .loc[row_indexer,col_indexer] = value instead\n",
      "\n",
      "See the caveats in the documentation: https://pandas.pydata.org/pandas-docs/stable/user_guide/indexing.html#returning-a-view-versus-a-copy\n",
      "  \n"
     ]
    },
    {
     "name": "stdout",
     "output_type": "stream",
     "text": [
      "mode: 5.0\n",
      "mean: 8.834615384615386\n"
     ]
    },
    {
     "data": {
      "image/png": "[encoded data removed]",
      "text/plain": [
       "<Figure size 360x360 with 1 Axes>"
      ]
     },
     "metadata": {
      "needs_background": "light"
     },
     "output_type": "display_data"
    }
   ],
   "source": [
    "df_med = df_sub[[\"Category\", \"Price\"]]\n",
    "df_med[\"Category\"] = df_med[(df_med[\"Category\"] == \"Accessory\")]\n",
    "df_med = df_med.dropna() \n",
    "\n",
    "sns.catplot(x = \"Category\", y = \"Price\", kind = \"box\", data = df_med)\n",
    "\n",
    "print('mode: ' + str(df_med[[\"Price\"]].mode()[\"Price\"][0]))\n",
    "print('mean: ' + str(float(df_med[[\"Price\"]].mean())))"
   ]
  },
  {
   "cell_type": "code",
   "execution_count": 27,
   "metadata": {},
   "outputs": [
    {
     "name": "stderr",
     "output_type": "stream",
     "text": [
      "C:\\Users\\NMari\\anaconda3\\lib\\site-packages\\ipykernel_launcher.py:2: SettingWithCopyWarning: \n",
      "A value is trying to be set on a copy of a slice from a DataFrame.\n",
      "Try using .loc[row_indexer,col_indexer] = value instead\n",
      "\n",
      "See the caveats in the documentation: https://pandas.pydata.org/pandas-docs/stable/user_guide/indexing.html#returning-a-view-versus-a-copy\n",
      "  \n"
     ]
    },
    {
     "name": "stdout",
     "output_type": "stream",
     "text": [
      "mode: 8.0\n",
      "mean: 10.376190476190477\n"
     ]
    },
    {
     "data": {
      "image/png": "[encoded data removed]",
      "text/plain": [
       "<Figure size 360x360 with 1 Axes>"
      ]
     },
     "metadata": {
      "needs_background": "light"
     },
     "output_type": "display_data"
    }
   ],
   "source": [
    "df_med = df_sub[[\"Category\", \"Price\"]]\n",
    "df_med[\"Category\"] = df_med[(df_med[\"Category\"] == \"Jeans\")]\n",
    "df_med = df_med.dropna() \n",
    "\n",
    "sns.catplot(x = \"Category\", y = \"Price\", kind = \"box\", data = df_med)\n",
    "\n",
    "print('mode: ' + str(df_med[[\"Price\"]].mode()[\"Price\"][0]))\n",
    "print('mean: ' + str(float(df_med[[\"Price\"]].mean())))"
   ]
  },
  {
   "cell_type": "code",
   "execution_count": 28,
   "metadata": {},
   "outputs": [
    {
     "name": "stderr",
     "output_type": "stream",
     "text": [
      "C:\\Users\\NMari\\anaconda3\\lib\\site-packages\\ipykernel_launcher.py:2: SettingWithCopyWarning: \n",
      "A value is trying to be set on a copy of a slice from a DataFrame.\n",
      "Try using .loc[row_indexer,col_indexer] = value instead\n",
      "\n",
      "See the caveats in the documentation: https://pandas.pydata.org/pandas-docs/stable/user_guide/indexing.html#returning-a-view-versus-a-copy\n",
      "  \n"
     ]
    },
    {
     "name": "stdout",
     "output_type": "stream",
     "text": [
      "mode: 4.0\n",
      "mean: 23.5875\n"
     ]
    },
    {
     "data": {
      "image/png": "[encoded data removed]",
      "text/plain": [
       "<Figure size 360x360 with 1 Axes>"
      ]
     },
     "metadata": {
      "needs_background": "light"
     },
     "output_type": "display_data"
    }
   ],
   "source": [
    "df_med = df_sub[[\"Category\", \"Price\"]]\n",
    "df_med[\"Category\"] = df_med[(df_med[\"Category\"] == \"Suit\")]\n",
    "df_med = df_med.dropna() \n",
    "\n",
    "sns.catplot(x = \"Category\", y = \"Price\", kind = \"box\", data = df_med)\n",
    "\n",
    "print('mode: ' + str(df_med[[\"Price\"]].mode()[\"Price\"][0]))\n",
    "print('mean: ' + str(float(df_med[[\"Price\"]].mean())))"
   ]
  },
  {
   "cell_type": "code",
   "execution_count": 29,
   "metadata": {},
   "outputs": [
    {
     "name": "stderr",
     "output_type": "stream",
     "text": [
      "C:\\Users\\NMari\\anaconda3\\lib\\site-packages\\ipykernel_launcher.py:2: SettingWithCopyWarning: \n",
      "A value is trying to be set on a copy of a slice from a DataFrame.\n",
      "Try using .loc[row_indexer,col_indexer] = value instead\n",
      "\n",
      "See the caveats in the documentation: https://pandas.pydata.org/pandas-docs/stable/user_guide/indexing.html#returning-a-view-versus-a-copy\n",
      "  \n"
     ]
    },
    {
     "name": "stdout",
     "output_type": "stream",
     "text": [
      "mode: 25.0\n",
      "mean: 59.62352941176471\n"
     ]
    },
    {
     "data": {
      "image/png": "[encoded data removed]",
      "text/plain": [
       "<Figure size 360x360 with 1 Axes>"
      ]
     },
     "metadata": {
      "needs_background": "light"
     },
     "output_type": "display_data"
    }
   ],
   "source": [
    "df_med = df_sub[[\"Category\", \"Price\"]]\n",
    "df_med[\"Category\"] = df_med[(df_med[\"Category\"] == \"Coat\")]\n",
    "df_med = df_med.dropna() \n",
    "\n",
    "sns.catplot(x = \"Category\", y = \"Price\", kind = \"box\", data = df_med)\n",
    "\n",
    "print('mode: ' + str(df_med[[\"Price\"]].mode()[\"Price\"][0]))\n",
    "print('mean: ' + str(float(df_med[[\"Price\"]].mean())))"
   ]
  },
  {
   "cell_type": "code",
   "execution_count": 30,
   "metadata": {},
   "outputs": [
    {
     "name": "stderr",
     "output_type": "stream",
     "text": [
      "C:\\Users\\NMari\\anaconda3\\lib\\site-packages\\ipykernel_launcher.py:2: SettingWithCopyWarning: \n",
      "A value is trying to be set on a copy of a slice from a DataFrame.\n",
      "Try using .loc[row_indexer,col_indexer] = value instead\n",
      "\n",
      "See the caveats in the documentation: https://pandas.pydata.org/pandas-docs/stable/user_guide/indexing.html#returning-a-view-versus-a-copy\n",
      "  \n"
     ]
    },
    {
     "name": "stdout",
     "output_type": "stream",
     "text": [
      "mode: 15.0\n",
      "mean: 19.63181818181818\n"
     ]
    },
    {
     "data": {
      "image/png": "[encoded data removed]",
      "text/plain": [
       "<Figure size 360x360 with 1 Axes>"
      ]
     },
     "metadata": {
      "needs_background": "light"
     },
     "output_type": "display_data"
    }
   ],
   "source": [
    "df_med = df_sub[[\"Category\", \"Price\"]]\n",
    "df_med[\"Category\"] = df_med[(df_med[\"Category\"] == \"Pajamas\")]\n",
    "df_med = df_med.dropna() \n",
    "\n",
    "sns.catplot(x = \"Category\", y = \"Price\", kind = \"box\", data = df_med)\n",
    "\n",
    "print('mode: ' + str(df_med[[\"Price\"]].mode()[\"Price\"][0]))\n",
    "print('mean: ' + str(float(df_med[[\"Price\"]].mean())))"
   ]
  },
  {
   "cell_type": "code",
   "execution_count": 31,
   "metadata": {},
   "outputs": [
    {
     "name": "stderr",
     "output_type": "stream",
     "text": [
      "C:\\Users\\NMari\\anaconda3\\lib\\site-packages\\ipykernel_launcher.py:2: SettingWithCopyWarning: \n",
      "A value is trying to be set on a copy of a slice from a DataFrame.\n",
      "Try using .loc[row_indexer,col_indexer] = value instead\n",
      "\n",
      "See the caveats in the documentation: https://pandas.pydata.org/pandas-docs/stable/user_guide/indexing.html#returning-a-view-versus-a-copy\n",
      "  \n"
     ]
    },
    {
     "name": "stdout",
     "output_type": "stream",
     "text": [
      "mode: 7.5\n",
      "mean: 26.54\n"
     ]
    },
    {
     "data": {
      "image/png": "[encoded data removed]",
      "text/plain": [
       "<Figure size 360x360 with 1 Axes>"
      ]
     },
     "metadata": {
      "needs_background": "light"
     },
     "output_type": "display_data"
    }
   ],
   "source": [
    "df_med = df_sub[[\"Category\", \"Price\"]]\n",
    "df_med[\"Category\"] = df_med[(df_med[\"Category\"] == \"Mens Top\")]\n",
    "df_med = df_med.dropna() \n",
    "\n",
    "sns.catplot(x = \"Category\", y = \"Price\", kind = \"box\", data = df_med)\n",
    "\n",
    "print('mode: ' + str(df_med[[\"Price\"]].mode()[\"Price\"][0]))\n",
    "print('mean: ' + str(float(df_med[[\"Price\"]].mean())))"
   ]
  },
  {
   "cell_type": "code",
   "execution_count": 32,
   "metadata": {},
   "outputs": [
    {
     "name": "stderr",
     "output_type": "stream",
     "text": [
      "C:\\Users\\NMari\\anaconda3\\lib\\site-packages\\ipykernel_launcher.py:2: SettingWithCopyWarning: \n",
      "A value is trying to be set on a copy of a slice from a DataFrame.\n",
      "Try using .loc[row_indexer,col_indexer] = value instead\n",
      "\n",
      "See the caveats in the documentation: https://pandas.pydata.org/pandas-docs/stable/user_guide/indexing.html#returning-a-view-versus-a-copy\n",
      "  \n"
     ]
    },
    {
     "name": "stdout",
     "output_type": "stream",
     "text": [
      "mode: 5.0\n",
      "mean: 15.530000000000001\n"
     ]
    },
    {
     "data": {
      "image/png": "[encoded data removed]",
      "text/plain": [
       "<Figure size 360x360 with 1 Axes>"
      ]
     },
     "metadata": {
      "needs_background": "light"
     },
     "output_type": "display_data"
    }
   ],
   "source": [
    "df_med = df_sub[[\"Category\", \"Price\"]]\n",
    "df_med[\"Category\"] = df_med[(df_med[\"Category\"] == \"Shoes\")]\n",
    "df_med = df_med.dropna() \n",
    "\n",
    "sns.catplot(x = \"Category\", y = \"Price\", kind = \"box\", data = df_med)\n",
    "\n",
    "print('mode: ' + str(df_med[[\"Price\"]].mode()[\"Price\"][0]))\n",
    "print('mean: ' + str(float(df_med[[\"Price\"]].mean())))"
   ]
  },
  {
   "cell_type": "markdown",
   "metadata": {},
   "source": [
    "#### Outliers ####\n",
    "\n",
    "As you can see most of the boxplots have a few outliers. However, there is no need to get worried of faulty data. The outliers aren't that drastic and are probably due to an user pricing their item too high, or an item really deserves that price but is based on another characteristic such as brand or state. \n",
    "\n",
    "#### Mean and mode ####\n",
    "\n",
    "For every item I have calculated the mean and the mode. The mean is the average price of each category and the mode is the price that is most used for each category. I have analyzed each mode and mean and came to the following insights: \n",
    "\n",
    "- Coats have the highest mean of €59.62. This might seem as much, but coats are usually seen as the most expensive wardrobe item so it makes sense. \n",
    "- Accessories have the lowest mean of only €8.83. This also makes sense as accessories are usually not really expensive. Accessories are, for example, socks, thights and scarves. \n",
    "\n",
    "- Jasckets have the highest mode of €55,-. This makes sense as well as Jackets are also seen as expensive. Jackets could also be leather jackets or denim jackets which definitely raises the price by a bit. \n",
    "- Jewellery have the lowest mode of only €3,-. This might surprise you as Jewellery isn't really that cheap (unfortunately). However, Vinted has a very difficult policy for luxury brands and are very strict which makes people scared and probably won't use Vinted for that kind of brands. "
   ]
  },
  {
   "cell_type": "markdown",
   "metadata": {},
   "source": [
    "### Correlation between Ratio and Price ###"
   ]
  },
  {
   "cell_type": "markdown",
   "metadata": {},
   "source": [
    "Next I was interested in seeing if there was a correlation between ratio and price."
   ]
  },
  {
   "cell_type": "code",
   "execution_count": 44,
   "metadata": {},
   "outputs": [
    {
     "data": {
      "image/png": "[encoded data removed]",
      "text/plain": [
       "<Figure size 360x360 with 1 Axes>"
      ]
     },
     "metadata": {
      "needs_background": "light"
     },
     "output_type": "display_data"
    }
   ],
   "source": [
    "sns.lmplot(x = \"Ratio\", y = \"Price\", fit_reg=False, data=df_sub) \n",
    "plt.xlabel(\"Ratio of interested and views\") \n",
    "plt.ylabel(\"Price of item\")\n",
    "plt.title(\"Ratio per price\")\n",
    "plt.show()"
   ]
  },
  {
   "cell_type": "markdown",
   "metadata": {},
   "source": [
    "\n",
    "The relation is somewhat linear the points lie around a virtual line. However, there a couple outliers on both the price and the ratio scale. As explained before the outliers with the price could be due to an item that was priced incorrectly or given that price for a specific reason and the outliers on the ratio scale could be because of the user buying promotion for that item which you can do on Vinted for 3 days or 7 days. \n",
    "\n",
    "The distance seems to be greater the higher the ratio and the price is though. \n"
   ]
  },
  {
   "cell_type": "markdown",
   "metadata": {},
   "source": [
    "### Distribution between Price and Condition ###"
   ]
  },
  {
   "cell_type": "markdown",
   "metadata": {},
   "source": [
    "Next I want to look a the distribution condition of the item and the price. Firstly I need to look at the names of each state in my dataset to know where to begin:"
   ]
  },
  {
   "cell_type": "code",
   "execution_count": 34,
   "metadata": {},
   "outputs": [
    {
     "data": {
      "text/plain": [
       "Very good           601\n",
       "New without tags    113\n",
       "New with tags        84\n",
       "Good                 74\n",
       "Satisfactory          7\n",
       "Name: State, dtype: int64"
      ]
     },
     "execution_count": 34,
     "metadata": {},
     "output_type": "execute_result"
    }
   ],
   "source": [
    "df_sub[\"State\"].value_counts()"
   ]
  },
  {
   "cell_type": "markdown",
   "metadata": {},
   "source": [
    "As you can see the state \"Satisfactory\" has very few frequencies. Not very useful to calculate the median and mean. So I decided to not use this state and only use the rest. "
   ]
  },
  {
   "cell_type": "code",
   "execution_count": 58,
   "metadata": {},
   "outputs": [
    {
     "name": "stdout",
     "output_type": "stream",
     "text": [
      "The mean price is: 38.33068376068376\n"
     ]
    },
    {
     "name": "stderr",
     "output_type": "stream",
     "text": [
      "C:\\Users\\NMari\\anaconda3\\lib\\site-packages\\ipykernel_launcher.py:2: SettingWithCopyWarning: \n",
      "A value is trying to be set on a copy of a slice from a DataFrame.\n",
      "Try using .loc[row_indexer,col_indexer] = value instead\n",
      "\n",
      "See the caveats in the documentation: https://pandas.pydata.org/pandas-docs/stable/user_guide/indexing.html#returning-a-view-versus-a-copy\n",
      "  \n"
     ]
    },
    {
     "data": {
      "image/png": "[encoded data removed]",
      "text/plain": [
       "<Figure size 432x288 with 1 Axes>"
      ]
     },
     "metadata": {
      "needs_background": "light"
     },
     "output_type": "display_data"
    }
   ],
   "source": [
    "df_con = df_sub[[\"State\", \"Price\"]]\n",
    "df_con[\"State\"] = df_con[(df_con[\"State\"] == \"Very good\")]\n",
    "df_con = df_con.groupby([\"State\", \"Price\"]).size().to_frame(\"Counts\").reset_index()\n",
    "\n",
    "mean_size = df_con[\"Price\"].mean()\n",
    "\n",
    "print(f\"The mean price is: {mean_size}\")\n",
    "\n",
    "sns.distplot(df_con[\"Price\"])\n",
    "plt.title(\"Price of very good stated items\")\n",
    "plt.axvline(mean_size, 0, 500, color='blue', label='mean')\n",
    "plt.xlabel(\"Price\")\n",
    "plt.ylabel(\"Occurance\")\n",
    "plt.legend()\n",
    "plt.show()"
   ]
  },
  {
   "cell_type": "code",
   "execution_count": 59,
   "metadata": {},
   "outputs": [
    {
     "name": "stdout",
     "output_type": "stream",
     "text": [
      "The mean price is: 29.744\n"
     ]
    },
    {
     "name": "stderr",
     "output_type": "stream",
     "text": [
      "C:\\Users\\NMari\\anaconda3\\lib\\site-packages\\ipykernel_launcher.py:2: SettingWithCopyWarning: \n",
      "A value is trying to be set on a copy of a slice from a DataFrame.\n",
      "Try using .loc[row_indexer,col_indexer] = value instead\n",
      "\n",
      "See the caveats in the documentation: https://pandas.pydata.org/pandas-docs/stable/user_guide/indexing.html#returning-a-view-versus-a-copy\n",
      "  \n"
     ]
    },
    {
     "data": {
      "image/png": "[encoded data removed]",
      "text/plain": [
       "<Figure size 432x288 with 1 Axes>"
      ]
     },
     "metadata": {
      "needs_background": "light"
     },
     "output_type": "display_data"
    }
   ],
   "source": [
    "df_con = df_sub[[\"State\", \"Price\"]]\n",
    "df_con[\"State\"] = df_con[(df_con[\"State\"] == \"New with tags\")]\n",
    "df_con = df_con.groupby([\"State\", \"Price\"]).size().to_frame(\"Counts\").reset_index()\n",
    "\n",
    "mean_size = df_con[\"Price\"].mean()\n",
    "\n",
    "print(f\"The mean price is: {mean_size}\")\n",
    "\n",
    "sns.distplot(df_con[\"Price\"])\n",
    "plt.title(\"Price of new with tags stated items\")\n",
    "plt.axvline(mean_size, 0, 500, color='blue', label='mean')\n",
    "plt.xlabel(\"Price\")\n",
    "plt.ylabel(\"Occurance\")\n",
    "plt.legend()\n",
    "plt.show()"
   ]
  },
  {
   "cell_type": "code",
   "execution_count": 60,
   "metadata": {},
   "outputs": [
    {
     "name": "stdout",
     "output_type": "stream",
     "text": [
      "The mean price is: 30.961538461538467\n"
     ]
    },
    {
     "name": "stderr",
     "output_type": "stream",
     "text": [
      "C:\\Users\\NMari\\anaconda3\\lib\\site-packages\\ipykernel_launcher.py:2: SettingWithCopyWarning: \n",
      "A value is trying to be set on a copy of a slice from a DataFrame.\n",
      "Try using .loc[row_indexer,col_indexer] = value instead\n",
      "\n",
      "See the caveats in the documentation: https://pandas.pydata.org/pandas-docs/stable/user_guide/indexing.html#returning-a-view-versus-a-copy\n",
      "  \n"
     ]
    },
    {
     "data": {
      "image/png": "[encoded data removed]",
      "text/plain": [
       "<Figure size 432x288 with 1 Axes>"
      ]
     },
     "metadata": {
      "needs_background": "light"
     },
     "output_type": "display_data"
    }
   ],
   "source": [
    "df_con = df_sub[[\"State\", \"Price\"]]\n",
    "df_con[\"State\"] = df_con[(df_con[\"State\"] == \"New without tags\")]\n",
    "df_con = df_con.groupby([\"State\", \"Price\"]).size().to_frame(\"Counts\").reset_index()\n",
    "\n",
    "mean_size = df_con[\"Price\"].mean()\n",
    "\n",
    "print(f\"The mean price is: {mean_size}\")\n",
    "\n",
    "sns.distplot(df_con[\"Price\"])\n",
    "plt.title(\"Price of new without tags stated items\")\n",
    "plt.axvline(mean_size, 0, 500, color='blue', label='mean')\n",
    "plt.xlabel(\"Price\")\n",
    "plt.ylabel(\"Occurance\")\n",
    "plt.legend()\n",
    "plt.show()"
   ]
  },
  {
   "cell_type": "code",
   "execution_count": 61,
   "metadata": {},
   "outputs": [
    {
     "name": "stdout",
     "output_type": "stream",
     "text": [
      "The mean price is: 36.55571428571429\n"
     ]
    },
    {
     "name": "stderr",
     "output_type": "stream",
     "text": [
      "C:\\Users\\NMari\\anaconda3\\lib\\site-packages\\ipykernel_launcher.py:2: SettingWithCopyWarning: \n",
      "A value is trying to be set on a copy of a slice from a DataFrame.\n",
      "Try using .loc[row_indexer,col_indexer] = value instead\n",
      "\n",
      "See the caveats in the documentation: https://pandas.pydata.org/pandas-docs/stable/user_guide/indexing.html#returning-a-view-versus-a-copy\n",
      "  \n"
     ]
    },
    {
     "data": {
      "image/png": "[encoded data removed]",
      "text/plain": [
       "<Figure size 432x288 with 1 Axes>"
      ]
     },
     "metadata": {
      "needs_background": "light"
     },
     "output_type": "display_data"
    }
   ],
   "source": [
    "df_con = df_sub[[\"State\", \"Price\"]]\n",
    "df_con[\"State\"] = df_con[(df_con[\"State\"] == \"Good\")]\n",
    "df_con = df_con.groupby([\"State\", \"Price\"]).size().to_frame(\"Counts\").reset_index()\n",
    "\n",
    "mean_size = df_con[\"Price\"].mean()\n",
    "\n",
    "print(f\"The mean price is: {mean_size}\")\n",
    "\n",
    "sns.distplot(df_con[\"Price\"])\n",
    "plt.title(\"Price of good stated items\")\n",
    "plt.axvline(mean_size, 0, 500, color='blue', label='mean')\n",
    "plt.xlabel(\"Price\")\n",
    "plt.ylabel(\"Occurance\")\n",
    "plt.legend()\n",
    "plt.show()"
   ]
  },
  {
   "cell_type": "markdown",
   "metadata": {},
   "source": [
    "#### Distribution ####\n",
    "\n",
    "I have a few things to note about the distributions. \n",
    "\n",
    "- Every single distribution has at least two peaks which means they are bimodel. This means that in each state that are items with a low price but also items with a higher price. \n",
    "- All distributions are left-skewed. This means that most of the items in each state have a low price. \n",
    "\n",
    "#### Mean ####\n",
    "For each state I have calculated the mean. Earlier I have already explained what the mean is. I have analyzed each mean and came to the following insight:\n",
    "\n",
    "Very good stated items have the highest mean of €38.33. This insight really surprised me as I would have thought new with tags items would be priced much higher as they have never been worn. However, I might have an explanation for this insight which might be due to Vintage items. Vintage is popular, but can also be quite expensive and they are not new. Vintage is usually made of better quality and made from materials such as wool, leather, acryl, cashmere and so on. Modern items are more likely to be made with synthetic materials which might be reason why the price is lower. \n"
   ]
  },
  {
   "cell_type": "markdown",
   "metadata": {},
   "source": [
    "### Distribution between Price and Brand ###"
   ]
  },
  {
   "cell_type": "markdown",
   "metadata": {},
   "source": [
    "Lastly I want to look at the distribution brand of the item and the price. Firstly I need to look at the brands of my dataset to know where to begin:"
   ]
  },
  {
   "cell_type": "code",
   "execution_count": 39,
   "metadata": {},
   "outputs": [
    {
     "data": {
      "text/plain": [
       "Vintage      411\n",
       "Bershka       19\n",
       "Max Mara      18\n",
       "Inside        16\n",
       "Zara          16\n",
       "            ... \n",
       "Maura          1\n",
       "Vesiica        1\n",
       "Nomad          1\n",
       "Weekday        1\n",
       "Decathlon      1\n",
       "Name: Brand, Length: 224, dtype: int64"
      ]
     },
     "execution_count": 39,
     "metadata": {},
     "output_type": "execute_result"
    }
   ],
   "source": [
    "df_sub[\"Brand\"].value_counts()"
   ]
  },
  {
   "cell_type": "markdown",
   "metadata": {},
   "source": [
    "As you can see there are quite a few brands available to use. However, only a couple with useful frequencies. To follow up on my previous insights of the mean of very good stated items, I am going to analyze the brands: Zara, Bershka and Vintage items to see if my hypothesis is correct. "
   ]
  },
  {
   "cell_type": "code",
   "execution_count": 40,
   "metadata": {},
   "outputs": [
    {
     "name": "stdout",
     "output_type": "stream",
     "text": [
      "The median price is: 22.25\n",
      "The mean price is: 29.09397959183674\n"
     ]
    },
    {
     "name": "stderr",
     "output_type": "stream",
     "text": [
      "C:\\Users\\NMari\\anaconda3\\lib\\site-packages\\ipykernel_launcher.py:2: SettingWithCopyWarning: \n",
      "A value is trying to be set on a copy of a slice from a DataFrame.\n",
      "Try using .loc[row_indexer,col_indexer] = value instead\n",
      "\n",
      "See the caveats in the documentation: https://pandas.pydata.org/pandas-docs/stable/user_guide/indexing.html#returning-a-view-versus-a-copy\n",
      "  \n"
     ]
    },
    {
     "data": {
      "image/png": "[encoded data removed]",
      "text/plain": [
       "<Figure size 432x288 with 1 Axes>"
      ]
     },
     "metadata": {
      "needs_background": "light"
     },
     "output_type": "display_data"
    }
   ],
   "source": [
    "df_b = df_sub[[\"Brand\", \"Price\"]]\n",
    "df_b[\"Brand\"] = df_b[(df_b[\"Brand\"] == \"Vintage\")]\n",
    "df_b = df_b.groupby([\"Brand\", \"Price\"]).size().to_frame(\"Counts\").reset_index()\n",
    "\n",
    "mean_size = df_b[\"Price\"].mean()\n",
    "median_size = df_b[\"Price\"].median()\n",
    "\n",
    "print(f\"The median price is: {median_size}\")\n",
    "print(f\"The mean price is: {mean_size}\")\n",
    "\n",
    "sns.violinplot(df_b[\"Price\"])\n",
    "sns.swarmplot(df_b[\"Price\"], color='purple')\n",
    "plt.title(\"Price of Vintage items\")\n",
    "plt.axvline(median_size, 0, 500, color='green', label='median')\n",
    "plt.axvline(mean_size, 0, 500, color='blue', label='mean')\n",
    "plt.xlabel(\"Price\")\n",
    "plt.ylabel(\"Occurance\")\n",
    "plt.legend()\n",
    "plt.show()"
   ]
  },
  {
   "cell_type": "code",
   "execution_count": 41,
   "metadata": {},
   "outputs": [
    {
     "name": "stdout",
     "output_type": "stream",
     "text": [
      "The median price is: 4.25\n",
      "The mean price is: 4.1875\n"
     ]
    },
    {
     "name": "stderr",
     "output_type": "stream",
     "text": [
      "C:\\Users\\NMari\\anaconda3\\lib\\site-packages\\ipykernel_launcher.py:2: SettingWithCopyWarning: \n",
      "A value is trying to be set on a copy of a slice from a DataFrame.\n",
      "Try using .loc[row_indexer,col_indexer] = value instead\n",
      "\n",
      "See the caveats in the documentation: https://pandas.pydata.org/pandas-docs/stable/user_guide/indexing.html#returning-a-view-versus-a-copy\n",
      "  \n"
     ]
    },
    {
     "data": {
      "image/png": "[encoded data removed]",
      "text/plain": [
       "<Figure size 432x288 with 1 Axes>"
      ]
     },
     "metadata": {
      "needs_background": "light"
     },
     "output_type": "display_data"
    }
   ],
   "source": [
    "df_b = df_sub[[\"Brand\", \"Price\"]]\n",
    "df_b[\"Brand\"] = df_b[(df_b[\"Brand\"] == \"Bershka\")]\n",
    "df_b = df_b.groupby([\"Brand\", \"Price\"]).size().to_frame(\"Counts\").reset_index()\n",
    "\n",
    "mean_size = df_b[\"Price\"].mean()\n",
    "median_size = df_b[\"Price\"].median()\n",
    "\n",
    "print(f\"The median price is: {median_size}\")\n",
    "print(f\"The mean price is: {mean_size}\")\n",
    "\n",
    "sns.violinplot(df_b[\"Price\"])\n",
    "sns.swarmplot(df_b[\"Price\"], color='purple')\n",
    "plt.title(\"Price of Bershka items\")\n",
    "plt.axvline(median_size, 0, 100, color='green', label='median')\n",
    "plt.axvline(mean_size, 0, 100, color='blue', label='mean')\n",
    "plt.xlabel(\"Price\")\n",
    "plt.ylabel(\"Occurance\")\n",
    "plt.legend()\n",
    "plt.show()"
   ]
  },
  {
   "cell_type": "code",
   "execution_count": 42,
   "metadata": {},
   "outputs": [
    {
     "name": "stdout",
     "output_type": "stream",
     "text": [
      "The median price is: 7.5\n",
      "The mean price is: 7.7375\n"
     ]
    },
    {
     "name": "stderr",
     "output_type": "stream",
     "text": [
      "C:\\Users\\NMari\\anaconda3\\lib\\site-packages\\ipykernel_launcher.py:2: SettingWithCopyWarning: \n",
      "A value is trying to be set on a copy of a slice from a DataFrame.\n",
      "Try using .loc[row_indexer,col_indexer] = value instead\n",
      "\n",
      "See the caveats in the documentation: https://pandas.pydata.org/pandas-docs/stable/user_guide/indexing.html#returning-a-view-versus-a-copy\n",
      "  \n"
     ]
    },
    {
     "data": {
      "image/png": "[encoded data removed]",
      "text/plain": [
       "<Figure size 432x288 with 1 Axes>"
      ]
     },
     "metadata": {
      "needs_background": "light"
     },
     "output_type": "display_data"
    }
   ],
   "source": [
    "df_b = df_sub[[\"Brand\", \"Price\"]]\n",
    "df_b[\"Brand\"] = df_b[(df_b[\"Brand\"] == \"Zara\")]\n",
    "df_b = df_b.groupby([\"Brand\", \"Price\"]).size().to_frame(\"Counts\").reset_index()\n",
    "\n",
    "mean_size = df_b[\"Price\"].mean()\n",
    "median_size = df_b[\"Price\"].median()\n",
    "\n",
    "print(f\"The median price is: {median_size}\")\n",
    "print(f\"The mean price is: {mean_size}\")\n",
    "\n",
    "sns.violinplot(df_b[\"Price\"])\n",
    "sns.swarmplot(df_b[\"Price\"], color='purple')\n",
    "plt.title(\"Price of Zara items\")\n",
    "plt.axvline(median_size, 0, 500, color='green', label='median')\n",
    "plt.axvline(mean_size, 0, 500, color='blue', label='mean')\n",
    "plt.xlabel(\"Price\")\n",
    "plt.ylabel(\"Occurance\")\n",
    "plt.legend()\n",
    "plt.show()"
   ]
  },
  {
   "cell_type": "markdown",
   "metadata": {},
   "source": [
    "As expected the price of fast fashion brands such as Zara and Bershka are much lower than Vintage items. Interesting however is that for Zara items the distribution is right-skewed and for Bershka left-skewed. However, it's minimal and I don't necessarily have an explanation for that. \n",
    "\n",
    "The distribution for Vintage items is also left-skewed and eventhough there are quite a lot of cheaper Vintage items there are also quite a few more expensive Vintage items which explains why the very good stated items have an higher mean. "
   ]
  },
  {
   "cell_type": "markdown",
   "metadata": {},
   "source": [
    "## Please go to the file Final Assignment_Building Model to follow the rest of my assignment. ## "
   ]
  },
  {
   "cell_type": "code",
   "execution_count": null,
   "metadata": {},
   "outputs": [],
   "source": []
  }
 ],
 "metadata": {
  "kernelspec": {
   "display_name": "Python 3",
   "language": "python",
   "name": "python3"
  },
  "language_info": {
   "codemirror_mode": {
    "name": "ipython",
    "version": 3
   },
   "file_extension": ".py",
   "mimetype": "text/x-python",
   "name": "python",
   "nbconvert_exporter": "python",
   "pygments_lexer": "ipython3",
   "version": "3.7.6"
  }
 },
 "nbformat": 4,
 "nbformat_minor": 4
}
